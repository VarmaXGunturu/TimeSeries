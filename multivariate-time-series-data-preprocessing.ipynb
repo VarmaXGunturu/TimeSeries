{
 "cells": [
  {
   "cell_type": "code",
   "execution_count": 1,
   "id": "b1ce2a8f",
   "metadata": {
    "_cell_guid": "b1076dfc-b9ad-4769-8c92-a6c4dae69d19",
    "_uuid": "8f2839f25d086af736a60e9eeb907d3b93b6e0e5",
    "execution": {
     "iopub.execute_input": "2022-03-06T20:37:27.427419Z",
     "iopub.status.busy": "2022-03-06T20:37:27.426718Z",
     "iopub.status.idle": "2022-03-06T20:38:14.348744Z",
     "shell.execute_reply": "2022-03-06T20:38:14.347835Z",
     "shell.execute_reply.started": "2022-03-06T16:17:11.054446Z"
    },
    "papermill": {
     "duration": 46.966461,
     "end_time": "2022-03-06T20:38:14.349006",
     "exception": false,
     "start_time": "2022-03-06T20:37:27.382545",
     "status": "completed"
    },
    "tags": []
   },
   "outputs": [
    {
     "name": "stdout",
     "output_type": "stream",
     "text": [
      "Collecting pandas==1.2.5\r\n",
      "  Downloading pandas-1.2.5-cp37-cp37m-manylinux_2_5_x86_64.manylinux1_x86_64.whl (9.9 MB)\r\n",
      "     |████████████████████████████████| 9.9 MB 4.4 MB/s            \r\n",
      "\u001b[?25hRequirement already satisfied: pytz>=2017.3 in /opt/conda/lib/python3.7/site-packages (from pandas==1.2.5) (2021.3)\r\n",
      "Requirement already satisfied: python-dateutil>=2.7.3 in /opt/conda/lib/python3.7/site-packages (from pandas==1.2.5) (2.8.2)\r\n",
      "Requirement already satisfied: numpy>=1.16.5 in /opt/conda/lib/python3.7/site-packages (from pandas==1.2.5) (1.20.3)\r\n",
      "Requirement already satisfied: six>=1.5 in /opt/conda/lib/python3.7/site-packages (from python-dateutil>=2.7.3->pandas==1.2.5) (1.16.0)\r\n",
      "Installing collected packages: pandas\r\n",
      "  Attempting uninstall: pandas\r\n",
      "    Found existing installation: pandas 1.3.5\r\n",
      "    Uninstalling pandas-1.3.5:\r\n",
      "      Successfully uninstalled pandas-1.3.5\r\n",
      "\u001b[31mERROR: pip's dependency resolver does not currently take into account all the packages that are installed. This behaviour is the source of the following dependency conflicts.\r\n",
      "beatrix-jupyterlab 3.1.6 requires google-cloud-bigquery-storage, which is not installed.\r\n",
      "woodwork 0.13.0 requires pandas>=1.3.0, but you have pandas 1.2.5 which is incompatible.\r\n",
      "tfx-bsl 1.5.0 requires absl-py<0.13,>=0.9, but you have absl-py 0.15.0 which is incompatible.\r\n",
      "tfx-bsl 1.5.0 requires numpy<1.20,>=1.16, but you have numpy 1.20.3 which is incompatible.\r\n",
      "tfx-bsl 1.5.0 requires pyarrow<6,>=1, but you have pyarrow 6.0.1 which is incompatible.\r\n",
      "tfx-bsl 1.5.0 requires tensorflow!=2.0.*,!=2.1.*,!=2.2.*,!=2.3.*,!=2.4.*,!=2.5.*,!=2.6.*,<3,>=1.15.2, but you have tensorflow 2.6.2 which is incompatible.\r\n",
      "tensorflow-transform 1.5.0 requires absl-py<0.13,>=0.9, but you have absl-py 0.15.0 which is incompatible.\r\n",
      "tensorflow-transform 1.5.0 requires numpy<1.20,>=1.16, but you have numpy 1.20.3 which is incompatible.\r\n",
      "tensorflow-transform 1.5.0 requires pyarrow<6,>=1, but you have pyarrow 6.0.1 which is incompatible.\r\n",
      "tensorflow-transform 1.5.0 requires tensorflow!=2.0.*,!=2.1.*,!=2.2.*,!=2.3.*,!=2.4.*,!=2.5.*,!=2.6.*,<2.8,>=1.15.2, but you have tensorflow 2.6.2 which is incompatible.\r\n",
      "pdpbox 0.2.1 requires matplotlib==3.1.1, but you have matplotlib 3.5.1 which is incompatible.\r\n",
      "featuretools 1.6.0 requires numpy>=1.21.0, but you have numpy 1.20.3 which is incompatible.\r\n",
      "featuretools 1.6.0 requires pandas>=1.3.0, but you have pandas 1.2.5 which is incompatible.\r\n",
      "arviz 0.11.4 requires typing-extensions<4,>=3.7.4.3, but you have typing-extensions 4.1.1 which is incompatible.\u001b[0m\r\n",
      "Successfully installed pandas-1.2.5\r\n",
      "\u001b[33mWARNING: Running pip as the 'root' user can result in broken permissions and conflicting behaviour with the system package manager. It is recommended to use a virtual environment instead: https://pip.pypa.io/warnings/venv\u001b[0m\r\n",
      "\u001b[31mERROR: pip's dependency resolver does not currently take into account all the packages that are installed. This behaviour is the source of the following dependency conflicts.\r\n",
      "beatrix-jupyterlab 3.1.6 requires google-cloud-bigquery-storage, which is not installed.\r\n",
      "spacy 3.2.2 requires typing-extensions<4.0.0.0,>=3.7.4; python_version < \"3.8\", but you have typing-extensions 4.1.1 which is incompatible.\r\n",
      "featuretools 1.6.0 requires numpy>=1.21.0, but you have numpy 1.20.3 which is incompatible.\r\n",
      "featuretools 1.6.0 requires pandas>=1.3.0, but you have pandas 1.2.5 which is incompatible.\u001b[0m\r\n",
      "\u001b[33mWARNING: Running pip as the 'root' user can result in broken permissions and conflicting behaviour with the system package manager. It is recommended to use a virtual environment instead: https://pip.pypa.io/warnings/venv\u001b[0m\r\n"
     ]
    }
   ],
   "source": [
    "!pip install pandas==1.2.5\n",
    "!pip install --quiet tqdm==4.62.2"
   ]
  },
  {
   "cell_type": "code",
   "execution_count": 2,
   "id": "569da491",
   "metadata": {
    "execution": {
     "iopub.execute_input": "2022-03-06T20:38:14.448750Z",
     "iopub.status.busy": "2022-03-06T20:38:14.447730Z",
     "iopub.status.idle": "2022-03-06T20:38:26.126161Z",
     "shell.execute_reply": "2022-03-06T20:38:26.125422Z",
     "shell.execute_reply.started": "2022-03-06T16:17:48.587499Z"
    },
    "papermill": {
     "duration": 11.731278,
     "end_time": "2022-03-06T20:38:26.126337",
     "exception": false,
     "start_time": "2022-03-06T20:38:14.395059",
     "status": "completed"
    },
    "tags": []
   },
   "outputs": [
    {
     "name": "stdout",
     "output_type": "stream",
     "text": [
      "\u001b[33mWARNING: Running pip as the 'root' user can result in broken permissions and conflicting behaviour with the system package manager. It is recommended to use a virtual environment instead: https://pip.pypa.io/warnings/venv\u001b[0m\r\n"
     ]
    }
   ],
   "source": [
    "!pip install --quiet pytorch-lightning==1.2.5"
   ]
  },
  {
   "cell_type": "code",
   "execution_count": 3,
   "id": "0e9a58e7",
   "metadata": {
    "execution": {
     "iopub.execute_input": "2022-03-06T20:38:26.218034Z",
     "iopub.status.busy": "2022-03-06T20:38:26.217154Z",
     "iopub.status.idle": "2022-03-06T20:38:31.247664Z",
     "shell.execute_reply": "2022-03-06T20:38:31.246897Z",
     "shell.execute_reply.started": "2022-03-06T20:21:01.344483Z"
    },
    "papermill": {
     "duration": 5.08027,
     "end_time": "2022-03-06T20:38:31.247839",
     "exception": false,
     "start_time": "2022-03-06T20:38:26.167569",
     "status": "completed"
    },
    "tags": []
   },
   "outputs": [],
   "source": [
    "import seaborn as sns\n",
    "from pylab import rcParams\n",
    "import matplotlib.pyplot as plt\n",
    "from matplotlib import rc\n",
    "\n",
    "import pandas as pd\n",
    "import numpy as np\n",
    "from tqdm.notebook import tqdm\n",
    "import pytorch_lightning as pl\n",
    "from sklearn.preprocessing import MinMaxScaler\n",
    "import os\n",
    "import torch\n",
    "import torch.autograd as autograd\n",
    "import torch.nn as nn\n",
    "import torch.nn.functional as F\n",
    "import torch.optim as optim\n",
    "from torch.utils.data import Dataset, DataLoader"
   ]
  },
  {
   "cell_type": "code",
   "execution_count": 4,
   "id": "6bfdacbd",
   "metadata": {
    "execution": {
     "iopub.execute_input": "2022-03-06T20:38:31.336879Z",
     "iopub.status.busy": "2022-03-06T20:38:31.336204Z",
     "iopub.status.idle": "2022-03-06T20:38:31.360601Z",
     "shell.execute_reply": "2022-03-06T20:38:31.359845Z",
     "shell.execute_reply.started": "2022-03-06T20:21:08.135025Z"
    },
    "papermill": {
     "duration": 0.072963,
     "end_time": "2022-03-06T20:38:31.360765",
     "exception": false,
     "start_time": "2022-03-06T20:38:31.287802",
     "status": "completed"
    },
    "tags": []
   },
   "outputs": [],
   "source": [
    "%matplotlib inline\n",
    "%config InlineBackend.figure_format='retina'\n",
    "\n",
    "rcParams['figure.figsize'] = 12, 8\n",
    "tqdm.pandas()  # to use apply function from pandas"
   ]
  },
  {
   "cell_type": "markdown",
   "id": "3971cc93",
   "metadata": {
    "papermill": {
     "duration": 0.039527,
     "end_time": "2022-03-06T20:38:31.440012",
     "exception": false,
     "start_time": "2022-03-06T20:38:31.400485",
     "status": "completed"
    },
    "tags": []
   },
   "source": [
    "## Seeding Everything"
   ]
  },
  {
   "cell_type": "code",
   "execution_count": 5,
   "id": "45bb96a6",
   "metadata": {
    "execution": {
     "iopub.execute_input": "2022-03-06T20:38:31.526635Z",
     "iopub.status.busy": "2022-03-06T20:38:31.525721Z",
     "iopub.status.idle": "2022-03-06T20:38:31.537008Z",
     "shell.execute_reply": "2022-03-06T20:38:31.537537Z",
     "shell.execute_reply.started": "2022-03-06T20:21:13.580232Z"
    },
    "papermill": {
     "duration": 0.056842,
     "end_time": "2022-03-06T20:38:31.537727",
     "exception": false,
     "start_time": "2022-03-06T20:38:31.480885",
     "status": "completed"
    },
    "tags": []
   },
   "outputs": [
    {
     "data": {
      "text/plain": [
       "42"
      ]
     },
     "execution_count": 5,
     "metadata": {},
     "output_type": "execute_result"
    }
   ],
   "source": [
    "pl.seed_everything(42)"
   ]
  },
  {
   "cell_type": "markdown",
   "id": "6349586b",
   "metadata": {
    "papermill": {
     "duration": 0.041821,
     "end_time": "2022-03-06T20:38:31.622863",
     "exception": false,
     "start_time": "2022-03-06T20:38:31.581042",
     "status": "completed"
    },
    "tags": []
   },
   "source": [
    "## Loading Data"
   ]
  },
  {
   "cell_type": "code",
   "execution_count": 6,
   "id": "686ee357",
   "metadata": {
    "execution": {
     "iopub.execute_input": "2022-03-06T20:38:31.716210Z",
     "iopub.status.busy": "2022-03-06T20:38:31.714909Z",
     "iopub.status.idle": "2022-03-06T20:40:20.547280Z",
     "shell.execute_reply": "2022-03-06T20:40:20.547956Z",
     "shell.execute_reply.started": "2022-03-06T20:21:13.806035Z"
    },
    "papermill": {
     "duration": 108.879835,
     "end_time": "2022-03-06T20:40:20.548251",
     "exception": false,
     "start_time": "2022-03-06T20:38:31.668416",
     "status": "completed"
    },
    "tags": []
   },
   "outputs": [],
   "source": [
    "link = '../input/finance/Binance_BTCUSDT_minute1.csv'\n",
    "data = pd.read_csv(link, parse_dates=[\"date\"])"
   ]
  },
  {
   "cell_type": "code",
   "execution_count": 7,
   "id": "09ece3e6",
   "metadata": {
    "execution": {
     "iopub.execute_input": "2022-03-06T20:40:20.644313Z",
     "iopub.status.busy": "2022-03-06T20:40:20.643555Z",
     "iopub.status.idle": "2022-03-06T20:40:21.002806Z",
     "shell.execute_reply": "2022-03-06T20:40:21.002149Z",
     "shell.execute_reply.started": "2022-03-06T20:22:39.538819Z"
    },
    "papermill": {
     "duration": 0.412774,
     "end_time": "2022-03-06T20:40:21.002969",
     "exception": false,
     "start_time": "2022-03-06T20:40:20.590195",
     "status": "completed"
    },
    "tags": []
   },
   "outputs": [
    {
     "data": {
      "text/html": [
       "<div>\n",
       "<style scoped>\n",
       "    .dataframe tbody tr th:only-of-type {\n",
       "        vertical-align: middle;\n",
       "    }\n",
       "\n",
       "    .dataframe tbody tr th {\n",
       "        vertical-align: top;\n",
       "    }\n",
       "\n",
       "    .dataframe thead th {\n",
       "        text-align: right;\n",
       "    }\n",
       "</style>\n",
       "<table border=\"1\" class=\"dataframe\">\n",
       "  <thead>\n",
       "    <tr style=\"text-align: right;\">\n",
       "      <th></th>\n",
       "      <th>unix</th>\n",
       "      <th>date</th>\n",
       "      <th>symbol</th>\n",
       "      <th>open</th>\n",
       "      <th>high</th>\n",
       "      <th>low</th>\n",
       "      <th>close</th>\n",
       "      <th>Volume BTC</th>\n",
       "      <th>Volume USDT</th>\n",
       "      <th>tradecount</th>\n",
       "    </tr>\n",
       "  </thead>\n",
       "  <tbody>\n",
       "    <tr>\n",
       "      <th>0</th>\n",
       "      <td>1.585700e+12</td>\n",
       "      <td>2020-01-04 00:00:00</td>\n",
       "      <td>BTC/USDT</td>\n",
       "      <td>6407.10</td>\n",
       "      <td>6422.82</td>\n",
       "      <td>6407.10</td>\n",
       "      <td>6417.24</td>\n",
       "      <td>427.762</td>\n",
       "      <td>2.744209e+06</td>\n",
       "      <td>1082</td>\n",
       "    </tr>\n",
       "    <tr>\n",
       "      <th>1</th>\n",
       "      <td>1.585700e+12</td>\n",
       "      <td>2020-01-04 00:01:00</td>\n",
       "      <td>BTC/USDT</td>\n",
       "      <td>6417.23</td>\n",
       "      <td>6418.28</td>\n",
       "      <td>6410.24</td>\n",
       "      <td>6415.50</td>\n",
       "      <td>115.233</td>\n",
       "      <td>7.391446e+05</td>\n",
       "      <td>375</td>\n",
       "    </tr>\n",
       "    <tr>\n",
       "      <th>2</th>\n",
       "      <td>1.585700e+12</td>\n",
       "      <td>2020-01-04 00:02:00</td>\n",
       "      <td>BTC/USDT</td>\n",
       "      <td>6415.36</td>\n",
       "      <td>6418.00</td>\n",
       "      <td>6411.50</td>\n",
       "      <td>6416.26</td>\n",
       "      <td>127.199</td>\n",
       "      <td>8.159922e+05</td>\n",
       "      <td>360</td>\n",
       "    </tr>\n",
       "    <tr>\n",
       "      <th>3</th>\n",
       "      <td>1.585700e+12</td>\n",
       "      <td>2020-01-04 00:03:00</td>\n",
       "      <td>BTC/USDT</td>\n",
       "      <td>6416.26</td>\n",
       "      <td>6419.20</td>\n",
       "      <td>6414.40</td>\n",
       "      <td>6416.92</td>\n",
       "      <td>104.306</td>\n",
       "      <td>6.694639e+05</td>\n",
       "      <td>278</td>\n",
       "    </tr>\n",
       "    <tr>\n",
       "      <th>4</th>\n",
       "      <td>1.585700e+12</td>\n",
       "      <td>2020-01-04 00:04:00</td>\n",
       "      <td>BTC/USDT</td>\n",
       "      <td>6416.92</td>\n",
       "      <td>6416.92</td>\n",
       "      <td>6410.55</td>\n",
       "      <td>6412.93</td>\n",
       "      <td>90.538</td>\n",
       "      <td>5.805868e+05</td>\n",
       "      <td>267</td>\n",
       "    </tr>\n",
       "  </tbody>\n",
       "</table>\n",
       "</div>"
      ],
      "text/plain": [
       "           unix                date    symbol     open     high      low  \\\n",
       "0  1.585700e+12 2020-01-04 00:00:00  BTC/USDT  6407.10  6422.82  6407.10   \n",
       "1  1.585700e+12 2020-01-04 00:01:00  BTC/USDT  6417.23  6418.28  6410.24   \n",
       "2  1.585700e+12 2020-01-04 00:02:00  BTC/USDT  6415.36  6418.00  6411.50   \n",
       "3  1.585700e+12 2020-01-04 00:03:00  BTC/USDT  6416.26  6419.20  6414.40   \n",
       "4  1.585700e+12 2020-01-04 00:04:00  BTC/USDT  6416.92  6416.92  6410.55   \n",
       "\n",
       "     close  Volume BTC   Volume USDT  tradecount  \n",
       "0  6417.24     427.762  2.744209e+06        1082  \n",
       "1  6415.50     115.233  7.391446e+05         375  \n",
       "2  6416.26     127.199  8.159922e+05         360  \n",
       "3  6416.92     104.306  6.694639e+05         278  \n",
       "4  6412.93      90.538  5.805868e+05         267  "
      ]
     },
     "execution_count": 7,
     "metadata": {},
     "output_type": "execute_result"
    }
   ],
   "source": [
    "data = data.sort_values(by=\"date\").reset_index(drop=True)\n",
    "data.head()"
   ]
  },
  {
   "cell_type": "code",
   "execution_count": 8,
   "id": "e89a5de1",
   "metadata": {
    "execution": {
     "iopub.execute_input": "2022-03-06T20:40:21.099279Z",
     "iopub.status.busy": "2022-03-06T20:40:21.098406Z",
     "iopub.status.idle": "2022-03-06T20:40:21.168644Z",
     "shell.execute_reply": "2022-03-06T20:40:21.167906Z",
     "shell.execute_reply.started": "2022-03-06T20:22:39.764240Z"
    },
    "papermill": {
     "duration": 0.122509,
     "end_time": "2022-03-06T20:40:21.168824",
     "exception": false,
     "start_time": "2022-03-06T20:40:21.046315",
     "status": "completed"
    },
    "tags": []
   },
   "outputs": [
    {
     "data": {
      "text/html": [
       "<div>\n",
       "<style scoped>\n",
       "    .dataframe tbody tr th:only-of-type {\n",
       "        vertical-align: middle;\n",
       "    }\n",
       "\n",
       "    .dataframe tbody tr th {\n",
       "        vertical-align: top;\n",
       "    }\n",
       "\n",
       "    .dataframe thead th {\n",
       "        text-align: right;\n",
       "    }\n",
       "</style>\n",
       "<table border=\"1\" class=\"dataframe\">\n",
       "  <thead>\n",
       "    <tr style=\"text-align: right;\">\n",
       "      <th></th>\n",
       "      <th>unix</th>\n",
       "      <th>date</th>\n",
       "      <th>symbol</th>\n",
       "      <th>open</th>\n",
       "      <th>high</th>\n",
       "      <th>low</th>\n",
       "      <th>close</th>\n",
       "      <th>Volume BTC</th>\n",
       "      <th>Volume USDT</th>\n",
       "      <th>tradecount</th>\n",
       "      <th>prev_close</th>\n",
       "    </tr>\n",
       "  </thead>\n",
       "  <tbody>\n",
       "    <tr>\n",
       "      <th>0</th>\n",
       "      <td>1.585700e+12</td>\n",
       "      <td>2020-01-04 00:00:00</td>\n",
       "      <td>BTC/USDT</td>\n",
       "      <td>6407.10</td>\n",
       "      <td>6422.82</td>\n",
       "      <td>6407.10</td>\n",
       "      <td>6417.24</td>\n",
       "      <td>427.762</td>\n",
       "      <td>2.744209e+06</td>\n",
       "      <td>1082</td>\n",
       "      <td>NaN</td>\n",
       "    </tr>\n",
       "    <tr>\n",
       "      <th>1</th>\n",
       "      <td>1.585700e+12</td>\n",
       "      <td>2020-01-04 00:01:00</td>\n",
       "      <td>BTC/USDT</td>\n",
       "      <td>6417.23</td>\n",
       "      <td>6418.28</td>\n",
       "      <td>6410.24</td>\n",
       "      <td>6415.50</td>\n",
       "      <td>115.233</td>\n",
       "      <td>7.391446e+05</td>\n",
       "      <td>375</td>\n",
       "      <td>6417.24</td>\n",
       "    </tr>\n",
       "    <tr>\n",
       "      <th>2</th>\n",
       "      <td>1.585700e+12</td>\n",
       "      <td>2020-01-04 00:02:00</td>\n",
       "      <td>BTC/USDT</td>\n",
       "      <td>6415.36</td>\n",
       "      <td>6418.00</td>\n",
       "      <td>6411.50</td>\n",
       "      <td>6416.26</td>\n",
       "      <td>127.199</td>\n",
       "      <td>8.159922e+05</td>\n",
       "      <td>360</td>\n",
       "      <td>6415.50</td>\n",
       "    </tr>\n",
       "    <tr>\n",
       "      <th>3</th>\n",
       "      <td>1.585700e+12</td>\n",
       "      <td>2020-01-04 00:03:00</td>\n",
       "      <td>BTC/USDT</td>\n",
       "      <td>6416.26</td>\n",
       "      <td>6419.20</td>\n",
       "      <td>6414.40</td>\n",
       "      <td>6416.92</td>\n",
       "      <td>104.306</td>\n",
       "      <td>6.694639e+05</td>\n",
       "      <td>278</td>\n",
       "      <td>6416.26</td>\n",
       "    </tr>\n",
       "    <tr>\n",
       "      <th>4</th>\n",
       "      <td>1.585700e+12</td>\n",
       "      <td>2020-01-04 00:04:00</td>\n",
       "      <td>BTC/USDT</td>\n",
       "      <td>6416.92</td>\n",
       "      <td>6416.92</td>\n",
       "      <td>6410.55</td>\n",
       "      <td>6412.93</td>\n",
       "      <td>90.538</td>\n",
       "      <td>5.805868e+05</td>\n",
       "      <td>267</td>\n",
       "      <td>6416.92</td>\n",
       "    </tr>\n",
       "  </tbody>\n",
       "</table>\n",
       "</div>"
      ],
      "text/plain": [
       "           unix                date    symbol     open     high      low  \\\n",
       "0  1.585700e+12 2020-01-04 00:00:00  BTC/USDT  6407.10  6422.82  6407.10   \n",
       "1  1.585700e+12 2020-01-04 00:01:00  BTC/USDT  6417.23  6418.28  6410.24   \n",
       "2  1.585700e+12 2020-01-04 00:02:00  BTC/USDT  6415.36  6418.00  6411.50   \n",
       "3  1.585700e+12 2020-01-04 00:03:00  BTC/USDT  6416.26  6419.20  6414.40   \n",
       "4  1.585700e+12 2020-01-04 00:04:00  BTC/USDT  6416.92  6416.92  6410.55   \n",
       "\n",
       "     close  Volume BTC   Volume USDT  tradecount  prev_close  \n",
       "0  6417.24     427.762  2.744209e+06        1082         NaN  \n",
       "1  6415.50     115.233  7.391446e+05         375     6417.24  \n",
       "2  6416.26     127.199  8.159922e+05         360     6415.50  \n",
       "3  6416.92     104.306  6.694639e+05         278     6416.26  \n",
       "4  6412.93      90.538  5.805868e+05         267     6416.92  "
      ]
     },
     "execution_count": 8,
     "metadata": {},
     "output_type": "execute_result"
    }
   ],
   "source": [
    "data['prev_close'] = data.shift(1)['close']\n",
    "data.head()"
   ]
  },
  {
   "cell_type": "markdown",
   "id": "c6df853e",
   "metadata": {
    "papermill": {
     "duration": 0.044608,
     "end_time": "2022-03-06T20:40:21.258609",
     "exception": false,
     "start_time": "2022-03-06T20:40:21.214001",
     "status": "completed"
    },
    "tags": []
   },
   "source": [
    "## Apply column function to create closing change variable"
   ]
  },
  {
   "cell_type": "code",
   "execution_count": 9,
   "id": "e58b7bf4",
   "metadata": {
    "execution": {
     "iopub.execute_input": "2022-03-06T20:40:21.353299Z",
     "iopub.status.busy": "2022-03-06T20:40:21.352551Z",
     "iopub.status.idle": "2022-03-06T20:41:19.237480Z",
     "shell.execute_reply": "2022-03-06T20:41:19.236654Z",
     "shell.execute_reply.started": "2022-03-06T20:22:39.816752Z"
    },
    "papermill": {
     "duration": 57.934854,
     "end_time": "2022-03-06T20:41:19.237777",
     "exception": false,
     "start_time": "2022-03-06T20:40:21.302923",
     "status": "completed"
    },
    "tags": []
   },
   "outputs": [
    {
     "data": {
      "application/vnd.jupyter.widget-view+json": {
       "model_id": "29b6a8eeee3146d78221fd7d14e13016",
       "version_major": 2,
       "version_minor": 0
      },
      "text/plain": [
       "  0%|          | 0/1048574 [00:00<?, ?it/s]"
      ]
     },
     "metadata": {},
     "output_type": "display_data"
    }
   ],
   "source": [
    "data['closing_change'] = data.progress_apply( \n",
    "    lambda row: 0 if np.isnan(row.prev_close) else row.close - row.prev_close, axis = 1)"
   ]
  },
  {
   "cell_type": "code",
   "execution_count": 10,
   "id": "49074c78",
   "metadata": {
    "execution": {
     "iopub.execute_input": "2022-03-06T20:41:19.347781Z",
     "iopub.status.busy": "2022-03-06T20:41:19.337783Z",
     "iopub.status.idle": "2022-03-06T20:41:19.361271Z",
     "shell.execute_reply": "2022-03-06T20:41:19.362012Z",
     "shell.execute_reply.started": "2022-03-06T20:23:16.919220Z"
    },
    "papermill": {
     "duration": 0.074781,
     "end_time": "2022-03-06T20:41:19.362254",
     "exception": false,
     "start_time": "2022-03-06T20:41:19.287473",
     "status": "completed"
    },
    "tags": []
   },
   "outputs": [
    {
     "data": {
      "text/html": [
       "<div>\n",
       "<style scoped>\n",
       "    .dataframe tbody tr th:only-of-type {\n",
       "        vertical-align: middle;\n",
       "    }\n",
       "\n",
       "    .dataframe tbody tr th {\n",
       "        vertical-align: top;\n",
       "    }\n",
       "\n",
       "    .dataframe thead th {\n",
       "        text-align: right;\n",
       "    }\n",
       "</style>\n",
       "<table border=\"1\" class=\"dataframe\">\n",
       "  <thead>\n",
       "    <tr style=\"text-align: right;\">\n",
       "      <th></th>\n",
       "      <th>unix</th>\n",
       "      <th>date</th>\n",
       "      <th>symbol</th>\n",
       "      <th>open</th>\n",
       "      <th>high</th>\n",
       "      <th>low</th>\n",
       "      <th>close</th>\n",
       "      <th>Volume BTC</th>\n",
       "      <th>Volume USDT</th>\n",
       "      <th>tradecount</th>\n",
       "      <th>prev_close</th>\n",
       "      <th>closing_change</th>\n",
       "    </tr>\n",
       "  </thead>\n",
       "  <tbody>\n",
       "    <tr>\n",
       "      <th>0</th>\n",
       "      <td>1.585700e+12</td>\n",
       "      <td>2020-01-04 00:00:00</td>\n",
       "      <td>BTC/USDT</td>\n",
       "      <td>6407.10</td>\n",
       "      <td>6422.82</td>\n",
       "      <td>6407.10</td>\n",
       "      <td>6417.24</td>\n",
       "      <td>427.762</td>\n",
       "      <td>2.744209e+06</td>\n",
       "      <td>1082</td>\n",
       "      <td>NaN</td>\n",
       "      <td>0.00</td>\n",
       "    </tr>\n",
       "    <tr>\n",
       "      <th>1</th>\n",
       "      <td>1.585700e+12</td>\n",
       "      <td>2020-01-04 00:01:00</td>\n",
       "      <td>BTC/USDT</td>\n",
       "      <td>6417.23</td>\n",
       "      <td>6418.28</td>\n",
       "      <td>6410.24</td>\n",
       "      <td>6415.50</td>\n",
       "      <td>115.233</td>\n",
       "      <td>7.391446e+05</td>\n",
       "      <td>375</td>\n",
       "      <td>6417.24</td>\n",
       "      <td>-1.74</td>\n",
       "    </tr>\n",
       "    <tr>\n",
       "      <th>2</th>\n",
       "      <td>1.585700e+12</td>\n",
       "      <td>2020-01-04 00:02:00</td>\n",
       "      <td>BTC/USDT</td>\n",
       "      <td>6415.36</td>\n",
       "      <td>6418.00</td>\n",
       "      <td>6411.50</td>\n",
       "      <td>6416.26</td>\n",
       "      <td>127.199</td>\n",
       "      <td>8.159922e+05</td>\n",
       "      <td>360</td>\n",
       "      <td>6415.50</td>\n",
       "      <td>0.76</td>\n",
       "    </tr>\n",
       "    <tr>\n",
       "      <th>3</th>\n",
       "      <td>1.585700e+12</td>\n",
       "      <td>2020-01-04 00:03:00</td>\n",
       "      <td>BTC/USDT</td>\n",
       "      <td>6416.26</td>\n",
       "      <td>6419.20</td>\n",
       "      <td>6414.40</td>\n",
       "      <td>6416.92</td>\n",
       "      <td>104.306</td>\n",
       "      <td>6.694639e+05</td>\n",
       "      <td>278</td>\n",
       "      <td>6416.26</td>\n",
       "      <td>0.66</td>\n",
       "    </tr>\n",
       "    <tr>\n",
       "      <th>4</th>\n",
       "      <td>1.585700e+12</td>\n",
       "      <td>2020-01-04 00:04:00</td>\n",
       "      <td>BTC/USDT</td>\n",
       "      <td>6416.92</td>\n",
       "      <td>6416.92</td>\n",
       "      <td>6410.55</td>\n",
       "      <td>6412.93</td>\n",
       "      <td>90.538</td>\n",
       "      <td>5.805868e+05</td>\n",
       "      <td>267</td>\n",
       "      <td>6416.92</td>\n",
       "      <td>-3.99</td>\n",
       "    </tr>\n",
       "  </tbody>\n",
       "</table>\n",
       "</div>"
      ],
      "text/plain": [
       "           unix                date    symbol     open     high      low  \\\n",
       "0  1.585700e+12 2020-01-04 00:00:00  BTC/USDT  6407.10  6422.82  6407.10   \n",
       "1  1.585700e+12 2020-01-04 00:01:00  BTC/USDT  6417.23  6418.28  6410.24   \n",
       "2  1.585700e+12 2020-01-04 00:02:00  BTC/USDT  6415.36  6418.00  6411.50   \n",
       "3  1.585700e+12 2020-01-04 00:03:00  BTC/USDT  6416.26  6419.20  6414.40   \n",
       "4  1.585700e+12 2020-01-04 00:04:00  BTC/USDT  6416.92  6416.92  6410.55   \n",
       "\n",
       "     close  Volume BTC   Volume USDT  tradecount  prev_close  closing_change  \n",
       "0  6417.24     427.762  2.744209e+06        1082         NaN            0.00  \n",
       "1  6415.50     115.233  7.391446e+05         375     6417.24           -1.74  \n",
       "2  6416.26     127.199  8.159922e+05         360     6415.50            0.76  \n",
       "3  6416.92     104.306  6.694639e+05         278     6416.26            0.66  \n",
       "4  6412.93      90.538  5.805868e+05         267     6416.92           -3.99  "
      ]
     },
     "execution_count": 10,
     "metadata": {},
     "output_type": "execute_result"
    }
   ],
   "source": [
    "#data.drop(\"prev_change\", axis=1, inplace=True)\n",
    "data.head()"
   ]
  },
  {
   "cell_type": "markdown",
   "id": "4f1af9e3",
   "metadata": {
    "papermill": {
     "duration": 0.045172,
     "end_time": "2022-03-06T20:41:19.454134",
     "exception": false,
     "start_time": "2022-03-06T20:41:19.408962",
     "status": "completed"
    },
    "tags": []
   },
   "source": [
    "## Features Engineering"
   ]
  },
  {
   "cell_type": "code",
   "execution_count": 11,
   "id": "4324f6d5",
   "metadata": {
    "execution": {
     "iopub.execute_input": "2022-03-06T20:41:19.553131Z",
     "iopub.status.busy": "2022-03-06T20:41:19.552375Z",
     "iopub.status.idle": "2022-03-06T20:44:11.341331Z",
     "shell.execute_reply": "2022-03-06T20:44:11.340657Z",
     "shell.execute_reply.started": "2022-03-06T20:23:16.938403Z"
    },
    "papermill": {
     "duration": 171.843159,
     "end_time": "2022-03-06T20:44:11.341522",
     "exception": false,
     "start_time": "2022-03-06T20:41:19.498363",
     "status": "completed"
    },
    "tags": []
   },
   "outputs": [
    {
     "data": {
      "application/vnd.jupyter.widget-view+json": {
       "model_id": "65ea0ab573e54005ae883cce778b09f6",
       "version_major": 2,
       "version_minor": 0
      },
      "text/plain": [
       "  0%|          | 0/1048574 [00:00<?, ?it/s]"
      ]
     },
     "metadata": {},
     "output_type": "display_data"
    }
   ],
   "source": [
    "rows = []\n",
    "\n",
    "for i, row in tqdm(data.iterrows(), total=data.shape[0]): # data.shape[0] = len(data)\n",
    "    row_data = dict(\n",
    "        day_of_week = row.date.dayofweek,\n",
    "        day_of_month = row.date.day,\n",
    "        week_of_year = row.date.week,\n",
    "        month = row.date.month,\n",
    "        open = row.open,\n",
    "        high = row.high,\n",
    "        low = row.low,\n",
    "        close_change = row.closing_change,\n",
    "        close = row.close\n",
    "    )\n",
    "    rows.append(row_data)\n",
    "    \n",
    "features_df = pd.DataFrame(rows)"
   ]
  },
  {
   "cell_type": "code",
   "execution_count": 12,
   "id": "976a7ca7",
   "metadata": {
    "execution": {
     "iopub.execute_input": "2022-03-06T20:44:11.452725Z",
     "iopub.status.busy": "2022-03-06T20:44:11.448441Z",
     "iopub.status.idle": "2022-03-06T20:44:11.459132Z",
     "shell.execute_reply": "2022-03-06T20:44:11.458600Z",
     "shell.execute_reply.started": "2022-03-06T20:25:19.854430Z"
    },
    "papermill": {
     "duration": 0.072804,
     "end_time": "2022-03-06T20:44:11.459318",
     "exception": false,
     "start_time": "2022-03-06T20:44:11.386514",
     "status": "completed"
    },
    "tags": []
   },
   "outputs": [
    {
     "name": "stdout",
     "output_type": "stream",
     "text": [
      "(1048574, 9)\n"
     ]
    },
    {
     "data": {
      "text/html": [
       "<div>\n",
       "<style scoped>\n",
       "    .dataframe tbody tr th:only-of-type {\n",
       "        vertical-align: middle;\n",
       "    }\n",
       "\n",
       "    .dataframe tbody tr th {\n",
       "        vertical-align: top;\n",
       "    }\n",
       "\n",
       "    .dataframe thead th {\n",
       "        text-align: right;\n",
       "    }\n",
       "</style>\n",
       "<table border=\"1\" class=\"dataframe\">\n",
       "  <thead>\n",
       "    <tr style=\"text-align: right;\">\n",
       "      <th></th>\n",
       "      <th>day_of_week</th>\n",
       "      <th>day_of_month</th>\n",
       "      <th>week_of_year</th>\n",
       "      <th>month</th>\n",
       "      <th>open</th>\n",
       "      <th>high</th>\n",
       "      <th>low</th>\n",
       "      <th>close_change</th>\n",
       "      <th>close</th>\n",
       "    </tr>\n",
       "  </thead>\n",
       "  <tbody>\n",
       "    <tr>\n",
       "      <th>0</th>\n",
       "      <td>5</td>\n",
       "      <td>4</td>\n",
       "      <td>1</td>\n",
       "      <td>1</td>\n",
       "      <td>6407.10</td>\n",
       "      <td>6422.82</td>\n",
       "      <td>6407.10</td>\n",
       "      <td>0.00</td>\n",
       "      <td>6417.24</td>\n",
       "    </tr>\n",
       "    <tr>\n",
       "      <th>1</th>\n",
       "      <td>5</td>\n",
       "      <td>4</td>\n",
       "      <td>1</td>\n",
       "      <td>1</td>\n",
       "      <td>6417.23</td>\n",
       "      <td>6418.28</td>\n",
       "      <td>6410.24</td>\n",
       "      <td>-1.74</td>\n",
       "      <td>6415.50</td>\n",
       "    </tr>\n",
       "    <tr>\n",
       "      <th>2</th>\n",
       "      <td>5</td>\n",
       "      <td>4</td>\n",
       "      <td>1</td>\n",
       "      <td>1</td>\n",
       "      <td>6415.36</td>\n",
       "      <td>6418.00</td>\n",
       "      <td>6411.50</td>\n",
       "      <td>0.76</td>\n",
       "      <td>6416.26</td>\n",
       "    </tr>\n",
       "    <tr>\n",
       "      <th>3</th>\n",
       "      <td>5</td>\n",
       "      <td>4</td>\n",
       "      <td>1</td>\n",
       "      <td>1</td>\n",
       "      <td>6416.26</td>\n",
       "      <td>6419.20</td>\n",
       "      <td>6414.40</td>\n",
       "      <td>0.66</td>\n",
       "      <td>6416.92</td>\n",
       "    </tr>\n",
       "    <tr>\n",
       "      <th>4</th>\n",
       "      <td>5</td>\n",
       "      <td>4</td>\n",
       "      <td>1</td>\n",
       "      <td>1</td>\n",
       "      <td>6416.92</td>\n",
       "      <td>6416.92</td>\n",
       "      <td>6410.55</td>\n",
       "      <td>-3.99</td>\n",
       "      <td>6412.93</td>\n",
       "    </tr>\n",
       "  </tbody>\n",
       "</table>\n",
       "</div>"
      ],
      "text/plain": [
       "   day_of_week  day_of_month  week_of_year  month     open     high      low  \\\n",
       "0            5             4             1      1  6407.10  6422.82  6407.10   \n",
       "1            5             4             1      1  6417.23  6418.28  6410.24   \n",
       "2            5             4             1      1  6415.36  6418.00  6411.50   \n",
       "3            5             4             1      1  6416.26  6419.20  6414.40   \n",
       "4            5             4             1      1  6416.92  6416.92  6410.55   \n",
       "\n",
       "   close_change    close  \n",
       "0          0.00  6417.24  \n",
       "1         -1.74  6415.50  \n",
       "2          0.76  6416.26  \n",
       "3          0.66  6416.92  \n",
       "4         -3.99  6412.93  "
      ]
     },
     "execution_count": 12,
     "metadata": {},
     "output_type": "execute_result"
    }
   ],
   "source": [
    "print(features_df.shape)\n",
    "features_df.head()"
   ]
  },
  {
   "cell_type": "markdown",
   "id": "2457ccc7",
   "metadata": {
    "papermill": {
     "duration": 0.043466,
     "end_time": "2022-03-06T20:44:11.546636",
     "exception": false,
     "start_time": "2022-03-06T20:44:11.503170",
     "status": "completed"
    },
    "tags": []
   },
   "source": [
    "## Train Test Split"
   ]
  },
  {
   "cell_type": "code",
   "execution_count": 13,
   "id": "439703db",
   "metadata": {
    "execution": {
     "iopub.execute_input": "2022-03-06T20:44:11.641860Z",
     "iopub.status.busy": "2022-03-06T20:44:11.641126Z",
     "iopub.status.idle": "2022-03-06T20:44:11.646383Z",
     "shell.execute_reply": "2022-03-06T20:44:11.645772Z",
     "shell.execute_reply.started": "2022-03-06T20:25:19.871328Z"
    },
    "papermill": {
     "duration": 0.055938,
     "end_time": "2022-03-06T20:44:11.646541",
     "exception": false,
     "start_time": "2022-03-06T20:44:11.590603",
     "status": "completed"
    },
    "tags": []
   },
   "outputs": [
    {
     "name": "stdout",
     "output_type": "stream",
     "text": [
      "943716\n"
     ]
    }
   ],
   "source": [
    "split = 0.9\n",
    "train_size = int(len(features_df) *split)\n",
    "print(train_size)"
   ]
  },
  {
   "cell_type": "code",
   "execution_count": 14,
   "id": "18b6aa51",
   "metadata": {
    "execution": {
     "iopub.execute_input": "2022-03-06T20:44:11.745680Z",
     "iopub.status.busy": "2022-03-06T20:44:11.744677Z",
     "iopub.status.idle": "2022-03-06T20:44:11.749550Z",
     "shell.execute_reply": "2022-03-06T20:44:11.748966Z",
     "shell.execute_reply.started": "2022-03-06T20:25:19.883959Z"
    },
    "papermill": {
     "duration": 0.058669,
     "end_time": "2022-03-06T20:44:11.749716",
     "exception": false,
     "start_time": "2022-03-06T20:44:11.691047",
     "status": "completed"
    },
    "tags": []
   },
   "outputs": [
    {
     "data": {
      "text/plain": [
       "((943716, 9), (104857, 9))"
      ]
     },
     "execution_count": 14,
     "metadata": {},
     "output_type": "execute_result"
    }
   ],
   "source": [
    "train_df, test_df = features_df[:train_size], features_df[train_size+1:]\n",
    "train_df.shape, test_df.shape"
   ]
  },
  {
   "cell_type": "markdown",
   "id": "25f9ee1b",
   "metadata": {
    "papermill": {
     "duration": 0.046392,
     "end_time": "2022-03-06T20:44:11.844175",
     "exception": false,
     "start_time": "2022-03-06T20:44:11.797783",
     "status": "completed"
    },
    "tags": []
   },
   "source": [
    "## Normalizing the Data using MinMaxScaler"
   ]
  },
  {
   "cell_type": "code",
   "execution_count": 15,
   "id": "23aa8490",
   "metadata": {
    "execution": {
     "iopub.execute_input": "2022-03-06T20:44:11.943364Z",
     "iopub.status.busy": "2022-03-06T20:44:11.942441Z",
     "iopub.status.idle": "2022-03-06T20:44:12.015273Z",
     "shell.execute_reply": "2022-03-06T20:44:12.013718Z",
     "shell.execute_reply.started": "2022-03-06T20:25:19.898971Z"
    },
    "papermill": {
     "duration": 0.126029,
     "end_time": "2022-03-06T20:44:12.015505",
     "exception": false,
     "start_time": "2022-03-06T20:44:11.889476",
     "status": "completed"
    },
    "tags": []
   },
   "outputs": [],
   "source": [
    "scaler = MinMaxScaler(feature_range = (-1, 1))\n",
    "scaler = scaler.fit(train_df)"
   ]
  },
  {
   "cell_type": "markdown",
   "id": "6b2bad57",
   "metadata": {
    "papermill": {
     "duration": 0.045513,
     "end_time": "2022-03-06T20:44:12.109265",
     "exception": false,
     "start_time": "2022-03-06T20:44:12.063752",
     "status": "completed"
    },
    "tags": []
   },
   "source": [
    "## Tranform"
   ]
  },
  {
   "cell_type": "code",
   "execution_count": 16,
   "id": "ff996ceb",
   "metadata": {
    "execution": {
     "iopub.execute_input": "2022-03-06T20:44:12.210666Z",
     "iopub.status.busy": "2022-03-06T20:44:12.208877Z",
     "iopub.status.idle": "2022-03-06T20:44:12.319964Z",
     "shell.execute_reply": "2022-03-06T20:44:12.319315Z",
     "shell.execute_reply.started": "2022-03-06T20:25:19.963511Z"
    },
    "papermill": {
     "duration": 0.164065,
     "end_time": "2022-03-06T20:44:12.320146",
     "exception": false,
     "start_time": "2022-03-06T20:44:12.156081",
     "status": "completed"
    },
    "tags": []
   },
   "outputs": [
    {
     "data": {
      "text/html": [
       "<div>\n",
       "<style scoped>\n",
       "    .dataframe tbody tr th:only-of-type {\n",
       "        vertical-align: middle;\n",
       "    }\n",
       "\n",
       "    .dataframe tbody tr th {\n",
       "        vertical-align: top;\n",
       "    }\n",
       "\n",
       "    .dataframe thead th {\n",
       "        text-align: right;\n",
       "    }\n",
       "</style>\n",
       "<table border=\"1\" class=\"dataframe\">\n",
       "  <thead>\n",
       "    <tr style=\"text-align: right;\">\n",
       "      <th></th>\n",
       "      <th>day_of_week</th>\n",
       "      <th>day_of_month</th>\n",
       "      <th>week_of_year</th>\n",
       "      <th>month</th>\n",
       "      <th>open</th>\n",
       "      <th>high</th>\n",
       "      <th>low</th>\n",
       "      <th>close_change</th>\n",
       "      <th>close</th>\n",
       "    </tr>\n",
       "  </thead>\n",
       "  <tbody>\n",
       "    <tr>\n",
       "      <th>0</th>\n",
       "      <td>0.666667</td>\n",
       "      <td>-0.8</td>\n",
       "      <td>-1.0</td>\n",
       "      <td>-1.0</td>\n",
       "      <td>-0.917292</td>\n",
       "      <td>-0.918927</td>\n",
       "      <td>-0.914516</td>\n",
       "      <td>0.259101</td>\n",
       "      <td>-0.916981</td>\n",
       "    </tr>\n",
       "    <tr>\n",
       "      <th>1</th>\n",
       "      <td>0.666667</td>\n",
       "      <td>-0.8</td>\n",
       "      <td>-1.0</td>\n",
       "      <td>-1.0</td>\n",
       "      <td>-0.916981</td>\n",
       "      <td>-0.919067</td>\n",
       "      <td>-0.914419</td>\n",
       "      <td>0.259015</td>\n",
       "      <td>-0.917034</td>\n",
       "    </tr>\n",
       "    <tr>\n",
       "      <th>2</th>\n",
       "      <td>0.666667</td>\n",
       "      <td>-0.8</td>\n",
       "      <td>-1.0</td>\n",
       "      <td>-1.0</td>\n",
       "      <td>-0.917039</td>\n",
       "      <td>-0.919075</td>\n",
       "      <td>-0.914381</td>\n",
       "      <td>0.259138</td>\n",
       "      <td>-0.917011</td>\n",
       "    </tr>\n",
       "    <tr>\n",
       "      <th>3</th>\n",
       "      <td>0.666667</td>\n",
       "      <td>-0.8</td>\n",
       "      <td>-1.0</td>\n",
       "      <td>-1.0</td>\n",
       "      <td>-0.917011</td>\n",
       "      <td>-0.919038</td>\n",
       "      <td>-0.914292</td>\n",
       "      <td>0.259133</td>\n",
       "      <td>-0.916991</td>\n",
       "    </tr>\n",
       "    <tr>\n",
       "      <th>4</th>\n",
       "      <td>0.666667</td>\n",
       "      <td>-0.8</td>\n",
       "      <td>-1.0</td>\n",
       "      <td>-1.0</td>\n",
       "      <td>-0.916991</td>\n",
       "      <td>-0.919108</td>\n",
       "      <td>-0.914410</td>\n",
       "      <td>0.258905</td>\n",
       "      <td>-0.917113</td>\n",
       "    </tr>\n",
       "  </tbody>\n",
       "</table>\n",
       "</div>"
      ],
      "text/plain": [
       "   day_of_week  day_of_month  week_of_year  month      open      high  \\\n",
       "0     0.666667          -0.8          -1.0   -1.0 -0.917292 -0.918927   \n",
       "1     0.666667          -0.8          -1.0   -1.0 -0.916981 -0.919067   \n",
       "2     0.666667          -0.8          -1.0   -1.0 -0.917039 -0.919075   \n",
       "3     0.666667          -0.8          -1.0   -1.0 -0.917011 -0.919038   \n",
       "4     0.666667          -0.8          -1.0   -1.0 -0.916991 -0.919108   \n",
       "\n",
       "        low  close_change     close  \n",
       "0 -0.914516      0.259101 -0.916981  \n",
       "1 -0.914419      0.259015 -0.917034  \n",
       "2 -0.914381      0.259138 -0.917011  \n",
       "3 -0.914292      0.259133 -0.916991  \n",
       "4 -0.914410      0.258905 -0.917113  "
      ]
     },
     "execution_count": 16,
     "metadata": {},
     "output_type": "execute_result"
    }
   ],
   "source": [
    "train_df = pd.DataFrame(scaler.transform(train_df), \n",
    "                        index=train_df.index,\n",
    "                        columns=train_df.columns)\n",
    "train_df.head()"
   ]
  },
  {
   "cell_type": "code",
   "execution_count": 17,
   "id": "c8d167e0",
   "metadata": {
    "execution": {
     "iopub.execute_input": "2022-03-06T20:44:12.426339Z",
     "iopub.status.busy": "2022-03-06T20:44:12.424990Z",
     "iopub.status.idle": "2022-03-06T20:44:12.448683Z",
     "shell.execute_reply": "2022-03-06T20:44:12.449263Z",
     "shell.execute_reply.started": "2022-03-06T20:25:20.060311Z"
    },
    "papermill": {
     "duration": 0.082521,
     "end_time": "2022-03-06T20:44:12.449471",
     "exception": false,
     "start_time": "2022-03-06T20:44:12.366950",
     "status": "completed"
    },
    "tags": []
   },
   "outputs": [
    {
     "data": {
      "text/html": [
       "<div>\n",
       "<style scoped>\n",
       "    .dataframe tbody tr th:only-of-type {\n",
       "        vertical-align: middle;\n",
       "    }\n",
       "\n",
       "    .dataframe tbody tr th {\n",
       "        vertical-align: top;\n",
       "    }\n",
       "\n",
       "    .dataframe thead th {\n",
       "        text-align: right;\n",
       "    }\n",
       "</style>\n",
       "<table border=\"1\" class=\"dataframe\">\n",
       "  <thead>\n",
       "    <tr style=\"text-align: right;\">\n",
       "      <th></th>\n",
       "      <th>day_of_week</th>\n",
       "      <th>day_of_month</th>\n",
       "      <th>week_of_year</th>\n",
       "      <th>month</th>\n",
       "      <th>open</th>\n",
       "      <th>high</th>\n",
       "      <th>low</th>\n",
       "      <th>close_change</th>\n",
       "      <th>close</th>\n",
       "    </tr>\n",
       "  </thead>\n",
       "  <tbody>\n",
       "    <tr>\n",
       "      <th>943717</th>\n",
       "      <td>0.0</td>\n",
       "      <td>0.466667</td>\n",
       "      <td>0.923077</td>\n",
       "      <td>1.0</td>\n",
       "      <td>0.370962</td>\n",
       "      <td>0.370268</td>\n",
       "      <td>0.375289</td>\n",
       "      <td>0.257672</td>\n",
       "      <td>0.370070</td>\n",
       "    </tr>\n",
       "    <tr>\n",
       "      <th>943718</th>\n",
       "      <td>0.0</td>\n",
       "      <td>0.466667</td>\n",
       "      <td>0.923077</td>\n",
       "      <td>1.0</td>\n",
       "      <td>0.370069</td>\n",
       "      <td>0.369374</td>\n",
       "      <td>0.374455</td>\n",
       "      <td>0.257627</td>\n",
       "      <td>0.369149</td>\n",
       "    </tr>\n",
       "    <tr>\n",
       "      <th>943719</th>\n",
       "      <td>0.0</td>\n",
       "      <td>0.466667</td>\n",
       "      <td>0.923077</td>\n",
       "      <td>1.0</td>\n",
       "      <td>0.369149</td>\n",
       "      <td>0.368762</td>\n",
       "      <td>0.373389</td>\n",
       "      <td>0.257397</td>\n",
       "      <td>0.368085</td>\n",
       "    </tr>\n",
       "    <tr>\n",
       "      <th>943720</th>\n",
       "      <td>0.0</td>\n",
       "      <td>0.466667</td>\n",
       "      <td>0.923077</td>\n",
       "      <td>1.0</td>\n",
       "      <td>0.368085</td>\n",
       "      <td>0.367688</td>\n",
       "      <td>0.373077</td>\n",
       "      <td>0.259521</td>\n",
       "      <td>0.368348</td>\n",
       "    </tr>\n",
       "    <tr>\n",
       "      <th>943721</th>\n",
       "      <td>0.0</td>\n",
       "      <td>0.466667</td>\n",
       "      <td>0.923077</td>\n",
       "      <td>1.0</td>\n",
       "      <td>0.368348</td>\n",
       "      <td>0.367777</td>\n",
       "      <td>0.372121</td>\n",
       "      <td>0.257017</td>\n",
       "      <td>0.367047</td>\n",
       "    </tr>\n",
       "  </tbody>\n",
       "</table>\n",
       "</div>"
      ],
      "text/plain": [
       "        day_of_week  day_of_month  week_of_year  month      open      high  \\\n",
       "943717          0.0      0.466667      0.923077    1.0  0.370962  0.370268   \n",
       "943718          0.0      0.466667      0.923077    1.0  0.370069  0.369374   \n",
       "943719          0.0      0.466667      0.923077    1.0  0.369149  0.368762   \n",
       "943720          0.0      0.466667      0.923077    1.0  0.368085  0.367688   \n",
       "943721          0.0      0.466667      0.923077    1.0  0.368348  0.367777   \n",
       "\n",
       "             low  close_change     close  \n",
       "943717  0.375289      0.257672  0.370070  \n",
       "943718  0.374455      0.257627  0.369149  \n",
       "943719  0.373389      0.257397  0.368085  \n",
       "943720  0.373077      0.259521  0.368348  \n",
       "943721  0.372121      0.257017  0.367047  "
      ]
     },
     "execution_count": 17,
     "metadata": {},
     "output_type": "execute_result"
    }
   ],
   "source": [
    "test_df = pd.DataFrame(scaler.transform(test_df), \n",
    "                        index=test_df.index,\n",
    "                        columns=test_df.columns)\n",
    "test_df.head()"
   ]
  },
  {
   "cell_type": "markdown",
   "id": "8fb47107",
   "metadata": {
    "papermill": {
     "duration": 0.046695,
     "end_time": "2022-03-06T20:44:12.543763",
     "exception": false,
     "start_time": "2022-03-06T20:44:12.497068",
     "status": "completed"
    },
    "tags": []
   },
   "source": [
    "## Cutting the dataset into sequences"
   ]
  },
  {
   "cell_type": "code",
   "execution_count": 18,
   "id": "7b7de577",
   "metadata": {
    "execution": {
     "iopub.execute_input": "2022-03-06T20:44:12.645529Z",
     "iopub.status.busy": "2022-03-06T20:44:12.640695Z",
     "iopub.status.idle": "2022-03-06T20:44:12.647716Z",
     "shell.execute_reply": "2022-03-06T20:44:12.648366Z",
     "shell.execute_reply.started": "2022-03-06T20:25:20.084552Z"
    },
    "papermill": {
     "duration": 0.057661,
     "end_time": "2022-03-06T20:44:12.648577",
     "exception": false,
     "start_time": "2022-03-06T20:44:12.590916",
     "status": "completed"
    },
    "tags": []
   },
   "outputs": [],
   "source": [
    "def create_sequences(input_data: pd.DataFrame, target_column, sequence_length):\n",
    "    \n",
    "    sequences = []\n",
    "    data_size = len(input_data)\n",
    "    \n",
    "    for i in tqdm(range(data_size - sequence_length)):\n",
    "        sequence = input_data[i:i+sequence_length]\n",
    "        \n",
    "        label_position = i + sequence_length\n",
    "        label = input_data.iloc[label_position][target_column]\n",
    "        \n",
    "        sequences.append((sequence, label))\n",
    "\n",
    "    return sequences"
   ]
  },
  {
   "cell_type": "markdown",
   "id": "f80a2d5b",
   "metadata": {
    "papermill": {
     "duration": 0.051742,
     "end_time": "2022-03-06T20:44:12.749105",
     "exception": false,
     "start_time": "2022-03-06T20:44:12.697363",
     "status": "completed"
    },
    "tags": []
   },
   "source": [
    "## Example to understand sequence"
   ]
  },
  {
   "cell_type": "code",
   "execution_count": 19,
   "id": "c8df4a11",
   "metadata": {
    "execution": {
     "iopub.execute_input": "2022-03-06T20:44:12.863967Z",
     "iopub.status.busy": "2022-03-06T20:44:12.863111Z",
     "iopub.status.idle": "2022-03-06T20:44:12.876162Z",
     "shell.execute_reply": "2022-03-06T20:44:12.876763Z",
     "shell.execute_reply.started": "2022-03-06T20:25:20.092890Z"
    },
    "papermill": {
     "duration": 0.077211,
     "end_time": "2022-03-06T20:44:12.876975",
     "exception": false,
     "start_time": "2022-03-06T20:44:12.799764",
     "status": "completed"
    },
    "tags": []
   },
   "outputs": [
    {
     "data": {
      "text/html": [
       "<div>\n",
       "<style scoped>\n",
       "    .dataframe tbody tr th:only-of-type {\n",
       "        vertical-align: middle;\n",
       "    }\n",
       "\n",
       "    .dataframe tbody tr th {\n",
       "        vertical-align: top;\n",
       "    }\n",
       "\n",
       "    .dataframe thead th {\n",
       "        text-align: right;\n",
       "    }\n",
       "</style>\n",
       "<table border=\"1\" class=\"dataframe\">\n",
       "  <thead>\n",
       "    <tr style=\"text-align: right;\">\n",
       "      <th></th>\n",
       "      <th>feature_1</th>\n",
       "      <th>label</th>\n",
       "    </tr>\n",
       "  </thead>\n",
       "  <tbody>\n",
       "    <tr>\n",
       "      <th>0</th>\n",
       "      <td>1</td>\n",
       "      <td>6</td>\n",
       "    </tr>\n",
       "    <tr>\n",
       "      <th>1</th>\n",
       "      <td>2</td>\n",
       "      <td>7</td>\n",
       "    </tr>\n",
       "    <tr>\n",
       "      <th>2</th>\n",
       "      <td>3</td>\n",
       "      <td>8</td>\n",
       "    </tr>\n",
       "    <tr>\n",
       "      <th>3</th>\n",
       "      <td>4</td>\n",
       "      <td>9</td>\n",
       "    </tr>\n",
       "    <tr>\n",
       "      <th>4</th>\n",
       "      <td>5</td>\n",
       "      <td>10</td>\n",
       "    </tr>\n",
       "  </tbody>\n",
       "</table>\n",
       "</div>"
      ],
      "text/plain": [
       "   feature_1  label\n",
       "0          1      6\n",
       "1          2      7\n",
       "2          3      8\n",
       "3          4      9\n",
       "4          5     10"
      ]
     },
     "execution_count": 19,
     "metadata": {},
     "output_type": "execute_result"
    }
   ],
   "source": [
    "sample1 = pd.DataFrame(dict(\n",
    "    feature_1 = [1, 2, 3, 4, 5],\n",
    "    label = [6, 7, 8, 9, 10]\n",
    "\n",
    "))\n",
    "\n",
    "sample1.head()"
   ]
  },
  {
   "cell_type": "code",
   "execution_count": 20,
   "id": "fd098ece",
   "metadata": {
    "execution": {
     "iopub.execute_input": "2022-03-06T20:44:13.022831Z",
     "iopub.status.busy": "2022-03-06T20:44:12.993833Z",
     "iopub.status.idle": "2022-03-06T20:44:13.038990Z",
     "shell.execute_reply": "2022-03-06T20:44:13.038462Z",
     "shell.execute_reply.started": "2022-03-06T20:25:20.109556Z"
    },
    "papermill": {
     "duration": 0.106154,
     "end_time": "2022-03-06T20:44:13.039150",
     "exception": false,
     "start_time": "2022-03-06T20:44:12.932996",
     "status": "completed"
    },
    "tags": []
   },
   "outputs": [
    {
     "data": {
      "application/vnd.jupyter.widget-view+json": {
       "model_id": "924f5ebb5f184ad08d917fee2851317b",
       "version_major": 2,
       "version_minor": 0
      },
      "text/plain": [
       "  0%|          | 0/2 [00:00<?, ?it/s]"
      ]
     },
     "metadata": {},
     "output_type": "display_data"
    },
    {
     "data": {
      "text/plain": [
       "[(   feature_1  label\n",
       "  0          1      6\n",
       "  1          2      7\n",
       "  2          3      8,\n",
       "  9),\n",
       " (   feature_1  label\n",
       "  1          2      7\n",
       "  2          3      8\n",
       "  3          4      9,\n",
       "  10)]"
      ]
     },
     "execution_count": 20,
     "metadata": {},
     "output_type": "execute_result"
    }
   ],
   "source": [
    "sample_sequences = create_sequences(sample1, \"label\", sequence_length=3)\n",
    "sample_sequences"
   ]
  },
  {
   "cell_type": "code",
   "execution_count": 21,
   "id": "e5ebbebd",
   "metadata": {
    "execution": {
     "iopub.execute_input": "2022-03-06T20:44:13.145523Z",
     "iopub.status.busy": "2022-03-06T20:44:13.144576Z",
     "iopub.status.idle": "2022-03-06T20:44:13.148194Z",
     "shell.execute_reply": "2022-03-06T20:44:13.148693Z",
     "shell.execute_reply.started": "2022-03-06T20:25:20.153130Z"
    },
    "papermill": {
     "duration": 0.059415,
     "end_time": "2022-03-06T20:44:13.148888",
     "exception": false,
     "start_time": "2022-03-06T20:44:13.089473",
     "status": "completed"
    },
    "tags": []
   },
   "outputs": [
    {
     "data": {
      "text/plain": [
       "2"
      ]
     },
     "execution_count": 21,
     "metadata": {},
     "output_type": "execute_result"
    }
   ],
   "source": [
    "len(sample_sequences)"
   ]
  },
  {
   "cell_type": "code",
   "execution_count": 22,
   "id": "52ae417c",
   "metadata": {
    "execution": {
     "iopub.execute_input": "2022-03-06T20:44:13.251059Z",
     "iopub.status.busy": "2022-03-06T20:44:13.250084Z",
     "iopub.status.idle": "2022-03-06T20:44:13.258379Z",
     "shell.execute_reply": "2022-03-06T20:44:13.259013Z",
     "shell.execute_reply.started": "2022-03-06T20:25:20.160691Z"
    },
    "papermill": {
     "duration": 0.061246,
     "end_time": "2022-03-06T20:44:13.259454",
     "exception": false,
     "start_time": "2022-03-06T20:44:13.198208",
     "status": "completed"
    },
    "tags": []
   },
   "outputs": [
    {
     "name": "stdout",
     "output_type": "stream",
     "text": [
      "   feature_1  label\n",
      "0          1      6\n",
      "1          2      7\n",
      "2          3      8\n",
      "\n",
      "label: 9\n"
     ]
    }
   ],
   "source": [
    "print(sample_sequences[0][0])\n",
    "print()\n",
    "print(f\"label: {sample_sequences[0][1]}\")"
   ]
  },
  {
   "cell_type": "code",
   "execution_count": 23,
   "id": "c7ef3e98",
   "metadata": {
    "execution": {
     "iopub.execute_input": "2022-03-06T20:44:13.372999Z",
     "iopub.status.busy": "2022-03-06T20:44:13.372278Z",
     "iopub.status.idle": "2022-03-06T20:44:13.377536Z",
     "shell.execute_reply": "2022-03-06T20:44:13.378420Z",
     "shell.execute_reply.started": "2022-03-06T20:30:01.022798Z"
    },
    "papermill": {
     "duration": 0.064675,
     "end_time": "2022-03-06T20:44:13.378692",
     "exception": false,
     "start_time": "2022-03-06T20:44:13.314017",
     "status": "completed"
    },
    "tags": []
   },
   "outputs": [
    {
     "name": "stdout",
     "output_type": "stream",
     "text": [
      "   feature_1  label\n",
      "1          2      7\n",
      "2          3      8\n",
      "3          4      9\n",
      "\n",
      "10\n"
     ]
    }
   ],
   "source": [
    "print(sample_sequences[1][0])\n",
    "print()\n",
    "print(sample_sequences[1][1])\n"
   ]
  },
  {
   "cell_type": "code",
   "execution_count": 24,
   "id": "16e1f443",
   "metadata": {
    "execution": {
     "iopub.execute_input": "2022-03-06T20:44:13.482566Z",
     "iopub.status.busy": "2022-03-06T20:44:13.481624Z",
     "iopub.status.idle": "2022-03-06T20:46:32.420095Z",
     "shell.execute_reply": "2022-03-06T20:46:32.420707Z",
     "shell.execute_reply.started": "2022-03-06T20:34:04.279133Z"
    },
    "papermill": {
     "duration": 138.992583,
     "end_time": "2022-03-06T20:46:32.420956",
     "exception": false,
     "start_time": "2022-03-06T20:44:13.428373",
     "status": "completed"
    },
    "tags": []
   },
   "outputs": [
    {
     "data": {
      "application/vnd.jupyter.widget-view+json": {
       "model_id": "5f8341b92fda4a819d9dc23148d1c895",
       "version_major": 2,
       "version_minor": 0
      },
      "text/plain": [
       "  0%|          | 0/943656 [00:00<?, ?it/s]"
      ]
     },
     "metadata": {},
     "output_type": "display_data"
    },
    {
     "data": {
      "application/vnd.jupyter.widget-view+json": {
       "model_id": "93366b79fc2c4a08ab4615219d0bbace",
       "version_major": 2,
       "version_minor": 0
      },
      "text/plain": [
       "  0%|          | 0/104797 [00:00<?, ?it/s]"
      ]
     },
     "metadata": {},
     "output_type": "display_data"
    }
   ],
   "source": [
    "SEQUENCE_LENGTH = 60\n",
    "\n",
    "train_sequences = create_sequences(train_df, \"close\", SEQUENCE_LENGTH)\n",
    "test_sequences  = create_sequences(test_df, \"close\", SEQUENCE_LENGTH)"
   ]
  },
  {
   "cell_type": "code",
   "execution_count": 25,
   "id": "5cfa91bb",
   "metadata": {
    "execution": {
     "iopub.execute_input": "2022-03-06T20:46:32.538151Z",
     "iopub.status.busy": "2022-03-06T20:46:32.537022Z",
     "iopub.status.idle": "2022-03-06T20:46:32.541040Z",
     "shell.execute_reply": "2022-03-06T20:46:32.541586Z",
     "shell.execute_reply.started": "2022-03-06T20:36:43.906948Z"
    },
    "papermill": {
     "duration": 0.06349,
     "end_time": "2022-03-06T20:46:32.541783",
     "exception": false,
     "start_time": "2022-03-06T20:46:32.478293",
     "status": "completed"
    },
    "tags": []
   },
   "outputs": [
    {
     "data": {
      "text/plain": [
       "-0.920541607497522"
      ]
     },
     "execution_count": 25,
     "metadata": {},
     "output_type": "execute_result"
    }
   ],
   "source": [
    "train_sequences[0][1]"
   ]
  },
  {
   "cell_type": "code",
   "execution_count": null,
   "id": "65f6cb1e",
   "metadata": {
    "papermill": {
     "duration": 0.050547,
     "end_time": "2022-03-06T20:46:32.644882",
     "exception": false,
     "start_time": "2022-03-06T20:46:32.594335",
     "status": "completed"
    },
    "tags": []
   },
   "outputs": [],
   "source": []
  }
 ],
 "metadata": {
  "kernelspec": {
   "display_name": "Python 3",
   "language": "python",
   "name": "python3"
  },
  "language_info": {
   "codemirror_mode": {
    "name": "ipython",
    "version": 3
   },
   "file_extension": ".py",
   "mimetype": "text/x-python",
   "name": "python",
   "nbconvert_exporter": "python",
   "pygments_lexer": "ipython3",
   "version": "3.7.12"
  },
  "papermill": {
   "default_parameters": {},
   "duration": 559.935269,
   "end_time": "2022-03-06T20:46:35.412120",
   "environment_variables": {},
   "exception": null,
   "input_path": "__notebook__.ipynb",
   "output_path": "__notebook__.ipynb",
   "parameters": {},
   "start_time": "2022-03-06T20:37:15.476851",
   "version": "2.3.3"
  },
  "widgets": {
   "application/vnd.jupyter.widget-state+json": {
    "state": {
     "04e9a67ff8c843f0b768a01a9ef10e60": {
      "model_module": "@jupyter-widgets/base",
      "model_module_version": "1.2.0",
      "model_name": "LayoutModel",
      "state": {
       "_model_module": "@jupyter-widgets/base",
       "_model_module_version": "1.2.0",
       "_model_name": "LayoutModel",
       "_view_count": null,
       "_view_module": "@jupyter-widgets/base",
       "_view_module_version": "1.2.0",
       "_view_name": "LayoutView",
       "align_content": null,
       "align_items": null,
       "align_self": null,
       "border": null,
       "bottom": null,
       "display": null,
       "flex": null,
       "flex_flow": null,
       "grid_area": null,
       "grid_auto_columns": null,
       "grid_auto_flow": null,
       "grid_auto_rows": null,
       "grid_column": null,
       "grid_gap": null,
       "grid_row": null,
       "grid_template_areas": null,
       "grid_template_columns": null,
       "grid_template_rows": null,
       "height": null,
       "justify_content": null,
       "justify_items": null,
       "left": null,
       "margin": null,
       "max_height": null,
       "max_width": null,
       "min_height": null,
       "min_width": null,
       "object_fit": null,
       "object_position": null,
       "order": null,
       "overflow": null,
       "overflow_x": null,
       "overflow_y": null,
       "padding": null,
       "right": null,
       "top": null,
       "visibility": null,
       "width": null
      }
     },
     "075cfd5a3d7244a49361467e4b869f5b": {
      "model_module": "@jupyter-widgets/base",
      "model_module_version": "1.2.0",
      "model_name": "LayoutModel",
      "state": {
       "_model_module": "@jupyter-widgets/base",
       "_model_module_version": "1.2.0",
       "_model_name": "LayoutModel",
       "_view_count": null,
       "_view_module": "@jupyter-widgets/base",
       "_view_module_version": "1.2.0",
       "_view_name": "LayoutView",
       "align_content": null,
       "align_items": null,
       "align_self": null,
       "border": null,
       "bottom": null,
       "display": null,
       "flex": null,
       "flex_flow": null,
       "grid_area": null,
       "grid_auto_columns": null,
       "grid_auto_flow": null,
       "grid_auto_rows": null,
       "grid_column": null,
       "grid_gap": null,
       "grid_row": null,
       "grid_template_areas": null,
       "grid_template_columns": null,
       "grid_template_rows": null,
       "height": null,
       "justify_content": null,
       "justify_items": null,
       "left": null,
       "margin": null,
       "max_height": null,
       "max_width": null,
       "min_height": null,
       "min_width": null,
       "object_fit": null,
       "object_position": null,
       "order": null,
       "overflow": null,
       "overflow_x": null,
       "overflow_y": null,
       "padding": null,
       "right": null,
       "top": null,
       "visibility": null,
       "width": null
      }
     },
     "0c674e5e20314cdfaaa74037726ee6ee": {
      "model_module": "@jupyter-widgets/controls",
      "model_module_version": "1.5.0",
      "model_name": "HTMLModel",
      "state": {
       "_dom_classes": [],
       "_model_module": "@jupyter-widgets/controls",
       "_model_module_version": "1.5.0",
       "_model_name": "HTMLModel",
       "_view_count": null,
       "_view_module": "@jupyter-widgets/controls",
       "_view_module_version": "1.5.0",
       "_view_name": "HTMLView",
       "description": "",
       "description_tooltip": null,
       "layout": "IPY_MODEL_f4b093e995214d3792bc19dbb05e0256",
       "placeholder": "​",
       "style": "IPY_MODEL_63014475119b4d91ba3d89539bb190bd",
       "value": " 104797/104797 [00:16&lt;00:00, 8256.94it/s]"
      }
     },
     "0e22eda077144d24b84f8034f7d787de": {
      "model_module": "@jupyter-widgets/controls",
      "model_module_version": "1.5.0",
      "model_name": "DescriptionStyleModel",
      "state": {
       "_model_module": "@jupyter-widgets/controls",
       "_model_module_version": "1.5.0",
       "_model_name": "DescriptionStyleModel",
       "_view_count": null,
       "_view_module": "@jupyter-widgets/base",
       "_view_module_version": "1.2.0",
       "_view_name": "StyleView",
       "description_width": ""
      }
     },
     "14bed8c7ce174c78bcd6923f663683ab": {
      "model_module": "@jupyter-widgets/controls",
      "model_module_version": "1.5.0",
      "model_name": "DescriptionStyleModel",
      "state": {
       "_model_module": "@jupyter-widgets/controls",
       "_model_module_version": "1.5.0",
       "_model_name": "DescriptionStyleModel",
       "_view_count": null,
       "_view_module": "@jupyter-widgets/base",
       "_view_module_version": "1.2.0",
       "_view_name": "StyleView",
       "description_width": ""
      }
     },
     "1a4a5431317745eb918812d3bbe90df4": {
      "model_module": "@jupyter-widgets/base",
      "model_module_version": "1.2.0",
      "model_name": "LayoutModel",
      "state": {
       "_model_module": "@jupyter-widgets/base",
       "_model_module_version": "1.2.0",
       "_model_name": "LayoutModel",
       "_view_count": null,
       "_view_module": "@jupyter-widgets/base",
       "_view_module_version": "1.2.0",
       "_view_name": "LayoutView",
       "align_content": null,
       "align_items": null,
       "align_self": null,
       "border": null,
       "bottom": null,
       "display": null,
       "flex": null,
       "flex_flow": null,
       "grid_area": null,
       "grid_auto_columns": null,
       "grid_auto_flow": null,
       "grid_auto_rows": null,
       "grid_column": null,
       "grid_gap": null,
       "grid_row": null,
       "grid_template_areas": null,
       "grid_template_columns": null,
       "grid_template_rows": null,
       "height": null,
       "justify_content": null,
       "justify_items": null,
       "left": null,
       "margin": null,
       "max_height": null,
       "max_width": null,
       "min_height": null,
       "min_width": null,
       "object_fit": null,
       "object_position": null,
       "order": null,
       "overflow": null,
       "overflow_x": null,
       "overflow_y": null,
       "padding": null,
       "right": null,
       "top": null,
       "visibility": null,
       "width": null
      }
     },
     "2566600781a049b3af04cb2279afaf87": {
      "model_module": "@jupyter-widgets/base",
      "model_module_version": "1.2.0",
      "model_name": "LayoutModel",
      "state": {
       "_model_module": "@jupyter-widgets/base",
       "_model_module_version": "1.2.0",
       "_model_name": "LayoutModel",
       "_view_count": null,
       "_view_module": "@jupyter-widgets/base",
       "_view_module_version": "1.2.0",
       "_view_name": "LayoutView",
       "align_content": null,
       "align_items": null,
       "align_self": null,
       "border": null,
       "bottom": null,
       "display": null,
       "flex": null,
       "flex_flow": null,
       "grid_area": null,
       "grid_auto_columns": null,
       "grid_auto_flow": null,
       "grid_auto_rows": null,
       "grid_column": null,
       "grid_gap": null,
       "grid_row": null,
       "grid_template_areas": null,
       "grid_template_columns": null,
       "grid_template_rows": null,
       "height": null,
       "justify_content": null,
       "justify_items": null,
       "left": null,
       "margin": null,
       "max_height": null,
       "max_width": null,
       "min_height": null,
       "min_width": null,
       "object_fit": null,
       "object_position": null,
       "order": null,
       "overflow": null,
       "overflow_x": null,
       "overflow_y": null,
       "padding": null,
       "right": null,
       "top": null,
       "visibility": null,
       "width": null
      }
     },
     "29b6a8eeee3146d78221fd7d14e13016": {
      "model_module": "@jupyter-widgets/controls",
      "model_module_version": "1.5.0",
      "model_name": "HBoxModel",
      "state": {
       "_dom_classes": [],
       "_model_module": "@jupyter-widgets/controls",
       "_model_module_version": "1.5.0",
       "_model_name": "HBoxModel",
       "_view_count": null,
       "_view_module": "@jupyter-widgets/controls",
       "_view_module_version": "1.5.0",
       "_view_name": "HBoxView",
       "box_style": "",
       "children": [
        "IPY_MODEL_45a304d60beb426bad38ed21430299f9",
        "IPY_MODEL_43e3213e03d7475ea6df78fa0d3d270b",
        "IPY_MODEL_5acf1f73f19c480cb7b4644a61398428"
       ],
       "layout": "IPY_MODEL_d7b6ca08aee34b4f8890cf2d4760b7db"
      }
     },
     "30c9495835ed44f1a46bfea8da055827": {
      "model_module": "@jupyter-widgets/controls",
      "model_module_version": "1.5.0",
      "model_name": "HTMLModel",
      "state": {
       "_dom_classes": [],
       "_model_module": "@jupyter-widgets/controls",
       "_model_module_version": "1.5.0",
       "_model_name": "HTMLModel",
       "_view_count": null,
       "_view_module": "@jupyter-widgets/controls",
       "_view_module_version": "1.5.0",
       "_view_name": "HTMLView",
       "description": "",
       "description_tooltip": null,
       "layout": "IPY_MODEL_2566600781a049b3af04cb2279afaf87",
       "placeholder": "​",
       "style": "IPY_MODEL_3ffd6047262d4713bcb350c137a53c21",
       "value": "100%"
      }
     },
     "321692b2e50746388c48f5772be939e2": {
      "model_module": "@jupyter-widgets/base",
      "model_module_version": "1.2.0",
      "model_name": "LayoutModel",
      "state": {
       "_model_module": "@jupyter-widgets/base",
       "_model_module_version": "1.2.0",
       "_model_name": "LayoutModel",
       "_view_count": null,
       "_view_module": "@jupyter-widgets/base",
       "_view_module_version": "1.2.0",
       "_view_name": "LayoutView",
       "align_content": null,
       "align_items": null,
       "align_self": null,
       "border": null,
       "bottom": null,
       "display": null,
       "flex": null,
       "flex_flow": null,
       "grid_area": null,
       "grid_auto_columns": null,
       "grid_auto_flow": null,
       "grid_auto_rows": null,
       "grid_column": null,
       "grid_gap": null,
       "grid_row": null,
       "grid_template_areas": null,
       "grid_template_columns": null,
       "grid_template_rows": null,
       "height": null,
       "justify_content": null,
       "justify_items": null,
       "left": null,
       "margin": null,
       "max_height": null,
       "max_width": null,
       "min_height": null,
       "min_width": null,
       "object_fit": null,
       "object_position": null,
       "order": null,
       "overflow": null,
       "overflow_x": null,
       "overflow_y": null,
       "padding": null,
       "right": null,
       "top": null,
       "visibility": null,
       "width": null
      }
     },
     "39e48db383a04199a0a4b5a604e3955a": {
      "model_module": "@jupyter-widgets/base",
      "model_module_version": "1.2.0",
      "model_name": "LayoutModel",
      "state": {
       "_model_module": "@jupyter-widgets/base",
       "_model_module_version": "1.2.0",
       "_model_name": "LayoutModel",
       "_view_count": null,
       "_view_module": "@jupyter-widgets/base",
       "_view_module_version": "1.2.0",
       "_view_name": "LayoutView",
       "align_content": null,
       "align_items": null,
       "align_self": null,
       "border": null,
       "bottom": null,
       "display": null,
       "flex": null,
       "flex_flow": null,
       "grid_area": null,
       "grid_auto_columns": null,
       "grid_auto_flow": null,
       "grid_auto_rows": null,
       "grid_column": null,
       "grid_gap": null,
       "grid_row": null,
       "grid_template_areas": null,
       "grid_template_columns": null,
       "grid_template_rows": null,
       "height": null,
       "justify_content": null,
       "justify_items": null,
       "left": null,
       "margin": null,
       "max_height": null,
       "max_width": null,
       "min_height": null,
       "min_width": null,
       "object_fit": null,
       "object_position": null,
       "order": null,
       "overflow": null,
       "overflow_x": null,
       "overflow_y": null,
       "padding": null,
       "right": null,
       "top": null,
       "visibility": null,
       "width": null
      }
     },
     "3c7e68d2f5c446dda8c19d6a95c97d9d": {
      "model_module": "@jupyter-widgets/base",
      "model_module_version": "1.2.0",
      "model_name": "LayoutModel",
      "state": {
       "_model_module": "@jupyter-widgets/base",
       "_model_module_version": "1.2.0",
       "_model_name": "LayoutModel",
       "_view_count": null,
       "_view_module": "@jupyter-widgets/base",
       "_view_module_version": "1.2.0",
       "_view_name": "LayoutView",
       "align_content": null,
       "align_items": null,
       "align_self": null,
       "border": null,
       "bottom": null,
       "display": null,
       "flex": null,
       "flex_flow": null,
       "grid_area": null,
       "grid_auto_columns": null,
       "grid_auto_flow": null,
       "grid_auto_rows": null,
       "grid_column": null,
       "grid_gap": null,
       "grid_row": null,
       "grid_template_areas": null,
       "grid_template_columns": null,
       "grid_template_rows": null,
       "height": null,
       "justify_content": null,
       "justify_items": null,
       "left": null,
       "margin": null,
       "max_height": null,
       "max_width": null,
       "min_height": null,
       "min_width": null,
       "object_fit": null,
       "object_position": null,
       "order": null,
       "overflow": null,
       "overflow_x": null,
       "overflow_y": null,
       "padding": null,
       "right": null,
       "top": null,
       "visibility": null,
       "width": null
      }
     },
     "3ffd6047262d4713bcb350c137a53c21": {
      "model_module": "@jupyter-widgets/controls",
      "model_module_version": "1.5.0",
      "model_name": "DescriptionStyleModel",
      "state": {
       "_model_module": "@jupyter-widgets/controls",
       "_model_module_version": "1.5.0",
       "_model_name": "DescriptionStyleModel",
       "_view_count": null,
       "_view_module": "@jupyter-widgets/base",
       "_view_module_version": "1.2.0",
       "_view_name": "StyleView",
       "description_width": ""
      }
     },
     "43e3213e03d7475ea6df78fa0d3d270b": {
      "model_module": "@jupyter-widgets/controls",
      "model_module_version": "1.5.0",
      "model_name": "FloatProgressModel",
      "state": {
       "_dom_classes": [],
       "_model_module": "@jupyter-widgets/controls",
       "_model_module_version": "1.5.0",
       "_model_name": "FloatProgressModel",
       "_view_count": null,
       "_view_module": "@jupyter-widgets/controls",
       "_view_module_version": "1.5.0",
       "_view_name": "ProgressView",
       "bar_style": "success",
       "description": "",
       "description_tooltip": null,
       "layout": "IPY_MODEL_50700f74895340609086359438da663e",
       "max": 1048574.0,
       "min": 0.0,
       "orientation": "horizontal",
       "style": "IPY_MODEL_7378d83541d84af7bda51963ebbd9329",
       "value": 1048574.0
      }
     },
     "45a304d60beb426bad38ed21430299f9": {
      "model_module": "@jupyter-widgets/controls",
      "model_module_version": "1.5.0",
      "model_name": "HTMLModel",
      "state": {
       "_dom_classes": [],
       "_model_module": "@jupyter-widgets/controls",
       "_model_module_version": "1.5.0",
       "_model_name": "HTMLModel",
       "_view_count": null,
       "_view_module": "@jupyter-widgets/controls",
       "_view_module_version": "1.5.0",
       "_view_name": "HTMLView",
       "description": "",
       "description_tooltip": null,
       "layout": "IPY_MODEL_d7ca2267989d4e37858f1c857a286fab",
       "placeholder": "​",
       "style": "IPY_MODEL_969a852184824ec6a2b2afa6094d8d0c",
       "value": "100%"
      }
     },
     "49027715780645a8847b0bce9baafa4a": {
      "model_module": "@jupyter-widgets/base",
      "model_module_version": "1.2.0",
      "model_name": "LayoutModel",
      "state": {
       "_model_module": "@jupyter-widgets/base",
       "_model_module_version": "1.2.0",
       "_model_name": "LayoutModel",
       "_view_count": null,
       "_view_module": "@jupyter-widgets/base",
       "_view_module_version": "1.2.0",
       "_view_name": "LayoutView",
       "align_content": null,
       "align_items": null,
       "align_self": null,
       "border": null,
       "bottom": null,
       "display": null,
       "flex": null,
       "flex_flow": null,
       "grid_area": null,
       "grid_auto_columns": null,
       "grid_auto_flow": null,
       "grid_auto_rows": null,
       "grid_column": null,
       "grid_gap": null,
       "grid_row": null,
       "grid_template_areas": null,
       "grid_template_columns": null,
       "grid_template_rows": null,
       "height": null,
       "justify_content": null,
       "justify_items": null,
       "left": null,
       "margin": null,
       "max_height": null,
       "max_width": null,
       "min_height": null,
       "min_width": null,
       "object_fit": null,
       "object_position": null,
       "order": null,
       "overflow": null,
       "overflow_x": null,
       "overflow_y": null,
       "padding": null,
       "right": null,
       "top": null,
       "visibility": null,
       "width": null
      }
     },
     "4cd3b964a96349f0a6ce989a942c1dc9": {
      "model_module": "@jupyter-widgets/base",
      "model_module_version": "1.2.0",
      "model_name": "LayoutModel",
      "state": {
       "_model_module": "@jupyter-widgets/base",
       "_model_module_version": "1.2.0",
       "_model_name": "LayoutModel",
       "_view_count": null,
       "_view_module": "@jupyter-widgets/base",
       "_view_module_version": "1.2.0",
       "_view_name": "LayoutView",
       "align_content": null,
       "align_items": null,
       "align_self": null,
       "border": null,
       "bottom": null,
       "display": null,
       "flex": null,
       "flex_flow": null,
       "grid_area": null,
       "grid_auto_columns": null,
       "grid_auto_flow": null,
       "grid_auto_rows": null,
       "grid_column": null,
       "grid_gap": null,
       "grid_row": null,
       "grid_template_areas": null,
       "grid_template_columns": null,
       "grid_template_rows": null,
       "height": null,
       "justify_content": null,
       "justify_items": null,
       "left": null,
       "margin": null,
       "max_height": null,
       "max_width": null,
       "min_height": null,
       "min_width": null,
       "object_fit": null,
       "object_position": null,
       "order": null,
       "overflow": null,
       "overflow_x": null,
       "overflow_y": null,
       "padding": null,
       "right": null,
       "top": null,
       "visibility": null,
       "width": null
      }
     },
     "4d5a5e4b74ac4528871a206adf574689": {
      "model_module": "@jupyter-widgets/controls",
      "model_module_version": "1.5.0",
      "model_name": "DescriptionStyleModel",
      "state": {
       "_model_module": "@jupyter-widgets/controls",
       "_model_module_version": "1.5.0",
       "_model_name": "DescriptionStyleModel",
       "_view_count": null,
       "_view_module": "@jupyter-widgets/base",
       "_view_module_version": "1.2.0",
       "_view_name": "StyleView",
       "description_width": ""
      }
     },
     "50700f74895340609086359438da663e": {
      "model_module": "@jupyter-widgets/base",
      "model_module_version": "1.2.0",
      "model_name": "LayoutModel",
      "state": {
       "_model_module": "@jupyter-widgets/base",
       "_model_module_version": "1.2.0",
       "_model_name": "LayoutModel",
       "_view_count": null,
       "_view_module": "@jupyter-widgets/base",
       "_view_module_version": "1.2.0",
       "_view_name": "LayoutView",
       "align_content": null,
       "align_items": null,
       "align_self": null,
       "border": null,
       "bottom": null,
       "display": null,
       "flex": null,
       "flex_flow": null,
       "grid_area": null,
       "grid_auto_columns": null,
       "grid_auto_flow": null,
       "grid_auto_rows": null,
       "grid_column": null,
       "grid_gap": null,
       "grid_row": null,
       "grid_template_areas": null,
       "grid_template_columns": null,
       "grid_template_rows": null,
       "height": null,
       "justify_content": null,
       "justify_items": null,
       "left": null,
       "margin": null,
       "max_height": null,
       "max_width": null,
       "min_height": null,
       "min_width": null,
       "object_fit": null,
       "object_position": null,
       "order": null,
       "overflow": null,
       "overflow_x": null,
       "overflow_y": null,
       "padding": null,
       "right": null,
       "top": null,
       "visibility": null,
       "width": null
      }
     },
     "55dd6b94941840b8acbcb70e0c9d5ba7": {
      "model_module": "@jupyter-widgets/controls",
      "model_module_version": "1.5.0",
      "model_name": "FloatProgressModel",
      "state": {
       "_dom_classes": [],
       "_model_module": "@jupyter-widgets/controls",
       "_model_module_version": "1.5.0",
       "_model_name": "FloatProgressModel",
       "_view_count": null,
       "_view_module": "@jupyter-widgets/controls",
       "_view_module_version": "1.5.0",
       "_view_name": "ProgressView",
       "bar_style": "success",
       "description": "",
       "description_tooltip": null,
       "layout": "IPY_MODEL_3c7e68d2f5c446dda8c19d6a95c97d9d",
       "max": 943656.0,
       "min": 0.0,
       "orientation": "horizontal",
       "style": "IPY_MODEL_56d51c62fbdd4efc9fa8c3e373a3ee31",
       "value": 943656.0
      }
     },
     "56d51c62fbdd4efc9fa8c3e373a3ee31": {
      "model_module": "@jupyter-widgets/controls",
      "model_module_version": "1.5.0",
      "model_name": "ProgressStyleModel",
      "state": {
       "_model_module": "@jupyter-widgets/controls",
       "_model_module_version": "1.5.0",
       "_model_name": "ProgressStyleModel",
       "_view_count": null,
       "_view_module": "@jupyter-widgets/base",
       "_view_module_version": "1.2.0",
       "_view_name": "StyleView",
       "bar_color": null,
       "description_width": ""
      }
     },
     "5acf1f73f19c480cb7b4644a61398428": {
      "model_module": "@jupyter-widgets/controls",
      "model_module_version": "1.5.0",
      "model_name": "HTMLModel",
      "state": {
       "_dom_classes": [],
       "_model_module": "@jupyter-widgets/controls",
       "_model_module_version": "1.5.0",
       "_model_name": "HTMLModel",
       "_view_count": null,
       "_view_module": "@jupyter-widgets/controls",
       "_view_module_version": "1.5.0",
       "_view_name": "HTMLView",
       "description": "",
       "description_tooltip": null,
       "layout": "IPY_MODEL_321692b2e50746388c48f5772be939e2",
       "placeholder": "​",
       "style": "IPY_MODEL_8c7b8faa59e24de89be8b8f446bc2e25",
       "value": " 1048574/1048574 [00:57&lt;00:00, 21388.35it/s]"
      }
     },
     "5b6ab42a51ba42c28e7ca038f603a6d4": {
      "model_module": "@jupyter-widgets/controls",
      "model_module_version": "1.5.0",
      "model_name": "HTMLModel",
      "state": {
       "_dom_classes": [],
       "_model_module": "@jupyter-widgets/controls",
       "_model_module_version": "1.5.0",
       "_model_name": "HTMLModel",
       "_view_count": null,
       "_view_module": "@jupyter-widgets/controls",
       "_view_module_version": "1.5.0",
       "_view_name": "HTMLView",
       "description": "",
       "description_tooltip": null,
       "layout": "IPY_MODEL_7878c00cd4124263af52d52bb189f038",
       "placeholder": "​",
       "style": "IPY_MODEL_4d5a5e4b74ac4528871a206adf574689",
       "value": "100%"
      }
     },
     "5ea67d832bca45f0bf81594017ef355f": {
      "model_module": "@jupyter-widgets/base",
      "model_module_version": "1.2.0",
      "model_name": "LayoutModel",
      "state": {
       "_model_module": "@jupyter-widgets/base",
       "_model_module_version": "1.2.0",
       "_model_name": "LayoutModel",
       "_view_count": null,
       "_view_module": "@jupyter-widgets/base",
       "_view_module_version": "1.2.0",
       "_view_name": "LayoutView",
       "align_content": null,
       "align_items": null,
       "align_self": null,
       "border": null,
       "bottom": null,
       "display": null,
       "flex": null,
       "flex_flow": null,
       "grid_area": null,
       "grid_auto_columns": null,
       "grid_auto_flow": null,
       "grid_auto_rows": null,
       "grid_column": null,
       "grid_gap": null,
       "grid_row": null,
       "grid_template_areas": null,
       "grid_template_columns": null,
       "grid_template_rows": null,
       "height": null,
       "justify_content": null,
       "justify_items": null,
       "left": null,
       "margin": null,
       "max_height": null,
       "max_width": null,
       "min_height": null,
       "min_width": null,
       "object_fit": null,
       "object_position": null,
       "order": null,
       "overflow": null,
       "overflow_x": null,
       "overflow_y": null,
       "padding": null,
       "right": null,
       "top": null,
       "visibility": null,
       "width": null
      }
     },
     "5f8341b92fda4a819d9dc23148d1c895": {
      "model_module": "@jupyter-widgets/controls",
      "model_module_version": "1.5.0",
      "model_name": "HBoxModel",
      "state": {
       "_dom_classes": [],
       "_model_module": "@jupyter-widgets/controls",
       "_model_module_version": "1.5.0",
       "_model_name": "HBoxModel",
       "_view_count": null,
       "_view_module": "@jupyter-widgets/controls",
       "_view_module_version": "1.5.0",
       "_view_name": "HBoxView",
       "box_style": "",
       "children": [
        "IPY_MODEL_9f3ac7019a474caab64abb9710b0c61c",
        "IPY_MODEL_55dd6b94941840b8acbcb70e0c9d5ba7",
        "IPY_MODEL_ca401fff3da24d608c0a5b9448687689"
       ],
       "layout": "IPY_MODEL_4cd3b964a96349f0a6ce989a942c1dc9"
      }
     },
     "63014475119b4d91ba3d89539bb190bd": {
      "model_module": "@jupyter-widgets/controls",
      "model_module_version": "1.5.0",
      "model_name": "DescriptionStyleModel",
      "state": {
       "_model_module": "@jupyter-widgets/controls",
       "_model_module_version": "1.5.0",
       "_model_name": "DescriptionStyleModel",
       "_view_count": null,
       "_view_module": "@jupyter-widgets/base",
       "_view_module_version": "1.2.0",
       "_view_name": "StyleView",
       "description_width": ""
      }
     },
     "65ea0ab573e54005ae883cce778b09f6": {
      "model_module": "@jupyter-widgets/controls",
      "model_module_version": "1.5.0",
      "model_name": "HBoxModel",
      "state": {
       "_dom_classes": [],
       "_model_module": "@jupyter-widgets/controls",
       "_model_module_version": "1.5.0",
       "_model_name": "HBoxModel",
       "_view_count": null,
       "_view_module": "@jupyter-widgets/controls",
       "_view_module_version": "1.5.0",
       "_view_name": "HBoxView",
       "box_style": "",
       "children": [
        "IPY_MODEL_30c9495835ed44f1a46bfea8da055827",
        "IPY_MODEL_8699d4cd85c4413583e38de3a93aab23",
        "IPY_MODEL_c4361da3919d4cfbb273bbc0f34bc803"
       ],
       "layout": "IPY_MODEL_96e76a5bd88c4473a60eb939cc8b5925"
      }
     },
     "6b79e28afb1c4128a63fd4c665366986": {
      "model_module": "@jupyter-widgets/controls",
      "model_module_version": "1.5.0",
      "model_name": "DescriptionStyleModel",
      "state": {
       "_model_module": "@jupyter-widgets/controls",
       "_model_module_version": "1.5.0",
       "_model_name": "DescriptionStyleModel",
       "_view_count": null,
       "_view_module": "@jupyter-widgets/base",
       "_view_module_version": "1.2.0",
       "_view_name": "StyleView",
       "description_width": ""
      }
     },
     "6f7c726cc76f46a3ab614c43e7b24fd7": {
      "model_module": "@jupyter-widgets/controls",
      "model_module_version": "1.5.0",
      "model_name": "DescriptionStyleModel",
      "state": {
       "_model_module": "@jupyter-widgets/controls",
       "_model_module_version": "1.5.0",
       "_model_name": "DescriptionStyleModel",
       "_view_count": null,
       "_view_module": "@jupyter-widgets/base",
       "_view_module_version": "1.2.0",
       "_view_name": "StyleView",
       "description_width": ""
      }
     },
     "7378d83541d84af7bda51963ebbd9329": {
      "model_module": "@jupyter-widgets/controls",
      "model_module_version": "1.5.0",
      "model_name": "ProgressStyleModel",
      "state": {
       "_model_module": "@jupyter-widgets/controls",
       "_model_module_version": "1.5.0",
       "_model_name": "ProgressStyleModel",
       "_view_count": null,
       "_view_module": "@jupyter-widgets/base",
       "_view_module_version": "1.2.0",
       "_view_name": "StyleView",
       "bar_color": null,
       "description_width": ""
      }
     },
     "7878c00cd4124263af52d52bb189f038": {
      "model_module": "@jupyter-widgets/base",
      "model_module_version": "1.2.0",
      "model_name": "LayoutModel",
      "state": {
       "_model_module": "@jupyter-widgets/base",
       "_model_module_version": "1.2.0",
       "_model_name": "LayoutModel",
       "_view_count": null,
       "_view_module": "@jupyter-widgets/base",
       "_view_module_version": "1.2.0",
       "_view_name": "LayoutView",
       "align_content": null,
       "align_items": null,
       "align_self": null,
       "border": null,
       "bottom": null,
       "display": null,
       "flex": null,
       "flex_flow": null,
       "grid_area": null,
       "grid_auto_columns": null,
       "grid_auto_flow": null,
       "grid_auto_rows": null,
       "grid_column": null,
       "grid_gap": null,
       "grid_row": null,
       "grid_template_areas": null,
       "grid_template_columns": null,
       "grid_template_rows": null,
       "height": null,
       "justify_content": null,
       "justify_items": null,
       "left": null,
       "margin": null,
       "max_height": null,
       "max_width": null,
       "min_height": null,
       "min_width": null,
       "object_fit": null,
       "object_position": null,
       "order": null,
       "overflow": null,
       "overflow_x": null,
       "overflow_y": null,
       "padding": null,
       "right": null,
       "top": null,
       "visibility": null,
       "width": null
      }
     },
     "8699d4cd85c4413583e38de3a93aab23": {
      "model_module": "@jupyter-widgets/controls",
      "model_module_version": "1.5.0",
      "model_name": "FloatProgressModel",
      "state": {
       "_dom_classes": [],
       "_model_module": "@jupyter-widgets/controls",
       "_model_module_version": "1.5.0",
       "_model_name": "FloatProgressModel",
       "_view_count": null,
       "_view_module": "@jupyter-widgets/controls",
       "_view_module_version": "1.5.0",
       "_view_name": "ProgressView",
       "bar_style": "success",
       "description": "",
       "description_tooltip": null,
       "layout": "IPY_MODEL_075cfd5a3d7244a49361467e4b869f5b",
       "max": 1048574.0,
       "min": 0.0,
       "orientation": "horizontal",
       "style": "IPY_MODEL_b39bdb50e4694852b8a10eaf0b82c11e",
       "value": 1048574.0
      }
     },
     "8c7b8faa59e24de89be8b8f446bc2e25": {
      "model_module": "@jupyter-widgets/controls",
      "model_module_version": "1.5.0",
      "model_name": "DescriptionStyleModel",
      "state": {
       "_model_module": "@jupyter-widgets/controls",
       "_model_module_version": "1.5.0",
       "_model_name": "DescriptionStyleModel",
       "_view_count": null,
       "_view_module": "@jupyter-widgets/base",
       "_view_module_version": "1.2.0",
       "_view_name": "StyleView",
       "description_width": ""
      }
     },
     "924f5ebb5f184ad08d917fee2851317b": {
      "model_module": "@jupyter-widgets/controls",
      "model_module_version": "1.5.0",
      "model_name": "HBoxModel",
      "state": {
       "_dom_classes": [],
       "_model_module": "@jupyter-widgets/controls",
       "_model_module_version": "1.5.0",
       "_model_name": "HBoxModel",
       "_view_count": null,
       "_view_module": "@jupyter-widgets/controls",
       "_view_module_version": "1.5.0",
       "_view_name": "HBoxView",
       "box_style": "",
       "children": [
        "IPY_MODEL_5b6ab42a51ba42c28e7ca038f603a6d4",
        "IPY_MODEL_fb351fc1911c441a86c92c0c9e6a9a2b",
        "IPY_MODEL_d67a26a63b43400c8146d6aa29dac145"
       ],
       "layout": "IPY_MODEL_5ea67d832bca45f0bf81594017ef355f"
      }
     },
     "93366b79fc2c4a08ab4615219d0bbace": {
      "model_module": "@jupyter-widgets/controls",
      "model_module_version": "1.5.0",
      "model_name": "HBoxModel",
      "state": {
       "_dom_classes": [],
       "_model_module": "@jupyter-widgets/controls",
       "_model_module_version": "1.5.0",
       "_model_name": "HBoxModel",
       "_view_count": null,
       "_view_module": "@jupyter-widgets/controls",
       "_view_module_version": "1.5.0",
       "_view_name": "HBoxView",
       "box_style": "",
       "children": [
        "IPY_MODEL_ec889faa092149a0bd32aab659971f80",
        "IPY_MODEL_a71b9eb4ee1a408a983d3f32991085d1",
        "IPY_MODEL_0c674e5e20314cdfaaa74037726ee6ee"
       ],
       "layout": "IPY_MODEL_99d26f565ecd41b79eaef991067518b2"
      }
     },
     "969a852184824ec6a2b2afa6094d8d0c": {
      "model_module": "@jupyter-widgets/controls",
      "model_module_version": "1.5.0",
      "model_name": "DescriptionStyleModel",
      "state": {
       "_model_module": "@jupyter-widgets/controls",
       "_model_module_version": "1.5.0",
       "_model_name": "DescriptionStyleModel",
       "_view_count": null,
       "_view_module": "@jupyter-widgets/base",
       "_view_module_version": "1.2.0",
       "_view_name": "StyleView",
       "description_width": ""
      }
     },
     "96e76a5bd88c4473a60eb939cc8b5925": {
      "model_module": "@jupyter-widgets/base",
      "model_module_version": "1.2.0",
      "model_name": "LayoutModel",
      "state": {
       "_model_module": "@jupyter-widgets/base",
       "_model_module_version": "1.2.0",
       "_model_name": "LayoutModel",
       "_view_count": null,
       "_view_module": "@jupyter-widgets/base",
       "_view_module_version": "1.2.0",
       "_view_name": "LayoutView",
       "align_content": null,
       "align_items": null,
       "align_self": null,
       "border": null,
       "bottom": null,
       "display": null,
       "flex": null,
       "flex_flow": null,
       "grid_area": null,
       "grid_auto_columns": null,
       "grid_auto_flow": null,
       "grid_auto_rows": null,
       "grid_column": null,
       "grid_gap": null,
       "grid_row": null,
       "grid_template_areas": null,
       "grid_template_columns": null,
       "grid_template_rows": null,
       "height": null,
       "justify_content": null,
       "justify_items": null,
       "left": null,
       "margin": null,
       "max_height": null,
       "max_width": null,
       "min_height": null,
       "min_width": null,
       "object_fit": null,
       "object_position": null,
       "order": null,
       "overflow": null,
       "overflow_x": null,
       "overflow_y": null,
       "padding": null,
       "right": null,
       "top": null,
       "visibility": null,
       "width": null
      }
     },
     "99d26f565ecd41b79eaef991067518b2": {
      "model_module": "@jupyter-widgets/base",
      "model_module_version": "1.2.0",
      "model_name": "LayoutModel",
      "state": {
       "_model_module": "@jupyter-widgets/base",
       "_model_module_version": "1.2.0",
       "_model_name": "LayoutModel",
       "_view_count": null,
       "_view_module": "@jupyter-widgets/base",
       "_view_module_version": "1.2.0",
       "_view_name": "LayoutView",
       "align_content": null,
       "align_items": null,
       "align_self": null,
       "border": null,
       "bottom": null,
       "display": null,
       "flex": null,
       "flex_flow": null,
       "grid_area": null,
       "grid_auto_columns": null,
       "grid_auto_flow": null,
       "grid_auto_rows": null,
       "grid_column": null,
       "grid_gap": null,
       "grid_row": null,
       "grid_template_areas": null,
       "grid_template_columns": null,
       "grid_template_rows": null,
       "height": null,
       "justify_content": null,
       "justify_items": null,
       "left": null,
       "margin": null,
       "max_height": null,
       "max_width": null,
       "min_height": null,
       "min_width": null,
       "object_fit": null,
       "object_position": null,
       "order": null,
       "overflow": null,
       "overflow_x": null,
       "overflow_y": null,
       "padding": null,
       "right": null,
       "top": null,
       "visibility": null,
       "width": null
      }
     },
     "9f3ac7019a474caab64abb9710b0c61c": {
      "model_module": "@jupyter-widgets/controls",
      "model_module_version": "1.5.0",
      "model_name": "HTMLModel",
      "state": {
       "_dom_classes": [],
       "_model_module": "@jupyter-widgets/controls",
       "_model_module_version": "1.5.0",
       "_model_name": "HTMLModel",
       "_view_count": null,
       "_view_module": "@jupyter-widgets/controls",
       "_view_module_version": "1.5.0",
       "_view_name": "HTMLView",
       "description": "",
       "description_tooltip": null,
       "layout": "IPY_MODEL_1a4a5431317745eb918812d3bbe90df4",
       "placeholder": "​",
       "style": "IPY_MODEL_0e22eda077144d24b84f8034f7d787de",
       "value": "100%"
      }
     },
     "a71b9eb4ee1a408a983d3f32991085d1": {
      "model_module": "@jupyter-widgets/controls",
      "model_module_version": "1.5.0",
      "model_name": "FloatProgressModel",
      "state": {
       "_dom_classes": [],
       "_model_module": "@jupyter-widgets/controls",
       "_model_module_version": "1.5.0",
       "_model_name": "FloatProgressModel",
       "_view_count": null,
       "_view_module": "@jupyter-widgets/controls",
       "_view_module_version": "1.5.0",
       "_view_name": "ProgressView",
       "bar_style": "success",
       "description": "",
       "description_tooltip": null,
       "layout": "IPY_MODEL_04e9a67ff8c843f0b768a01a9ef10e60",
       "max": 104797.0,
       "min": 0.0,
       "orientation": "horizontal",
       "style": "IPY_MODEL_b2cd7929e378480db6b3e78ee74677e6",
       "value": 104797.0
      }
     },
     "b23111d578e34430abd80a6a152d46cd": {
      "model_module": "@jupyter-widgets/controls",
      "model_module_version": "1.5.0",
      "model_name": "ProgressStyleModel",
      "state": {
       "_model_module": "@jupyter-widgets/controls",
       "_model_module_version": "1.5.0",
       "_model_name": "ProgressStyleModel",
       "_view_count": null,
       "_view_module": "@jupyter-widgets/base",
       "_view_module_version": "1.2.0",
       "_view_name": "StyleView",
       "bar_color": null,
       "description_width": ""
      }
     },
     "b2cd7929e378480db6b3e78ee74677e6": {
      "model_module": "@jupyter-widgets/controls",
      "model_module_version": "1.5.0",
      "model_name": "ProgressStyleModel",
      "state": {
       "_model_module": "@jupyter-widgets/controls",
       "_model_module_version": "1.5.0",
       "_model_name": "ProgressStyleModel",
       "_view_count": null,
       "_view_module": "@jupyter-widgets/base",
       "_view_module_version": "1.2.0",
       "_view_name": "StyleView",
       "bar_color": null,
       "description_width": ""
      }
     },
     "b39bdb50e4694852b8a10eaf0b82c11e": {
      "model_module": "@jupyter-widgets/controls",
      "model_module_version": "1.5.0",
      "model_name": "ProgressStyleModel",
      "state": {
       "_model_module": "@jupyter-widgets/controls",
       "_model_module_version": "1.5.0",
       "_model_name": "ProgressStyleModel",
       "_view_count": null,
       "_view_module": "@jupyter-widgets/base",
       "_view_module_version": "1.2.0",
       "_view_name": "StyleView",
       "bar_color": null,
       "description_width": ""
      }
     },
     "b4a08f232dd94b0893d2715c5ba96b7b": {
      "model_module": "@jupyter-widgets/base",
      "model_module_version": "1.2.0",
      "model_name": "LayoutModel",
      "state": {
       "_model_module": "@jupyter-widgets/base",
       "_model_module_version": "1.2.0",
       "_model_name": "LayoutModel",
       "_view_count": null,
       "_view_module": "@jupyter-widgets/base",
       "_view_module_version": "1.2.0",
       "_view_name": "LayoutView",
       "align_content": null,
       "align_items": null,
       "align_self": null,
       "border": null,
       "bottom": null,
       "display": null,
       "flex": null,
       "flex_flow": null,
       "grid_area": null,
       "grid_auto_columns": null,
       "grid_auto_flow": null,
       "grid_auto_rows": null,
       "grid_column": null,
       "grid_gap": null,
       "grid_row": null,
       "grid_template_areas": null,
       "grid_template_columns": null,
       "grid_template_rows": null,
       "height": null,
       "justify_content": null,
       "justify_items": null,
       "left": null,
       "margin": null,
       "max_height": null,
       "max_width": null,
       "min_height": null,
       "min_width": null,
       "object_fit": null,
       "object_position": null,
       "order": null,
       "overflow": null,
       "overflow_x": null,
       "overflow_y": null,
       "padding": null,
       "right": null,
       "top": null,
       "visibility": null,
       "width": null
      }
     },
     "bdfd75d7bcd74a689ffb0f76b3ec7690": {
      "model_module": "@jupyter-widgets/base",
      "model_module_version": "1.2.0",
      "model_name": "LayoutModel",
      "state": {
       "_model_module": "@jupyter-widgets/base",
       "_model_module_version": "1.2.0",
       "_model_name": "LayoutModel",
       "_view_count": null,
       "_view_module": "@jupyter-widgets/base",
       "_view_module_version": "1.2.0",
       "_view_name": "LayoutView",
       "align_content": null,
       "align_items": null,
       "align_self": null,
       "border": null,
       "bottom": null,
       "display": null,
       "flex": null,
       "flex_flow": null,
       "grid_area": null,
       "grid_auto_columns": null,
       "grid_auto_flow": null,
       "grid_auto_rows": null,
       "grid_column": null,
       "grid_gap": null,
       "grid_row": null,
       "grid_template_areas": null,
       "grid_template_columns": null,
       "grid_template_rows": null,
       "height": null,
       "justify_content": null,
       "justify_items": null,
       "left": null,
       "margin": null,
       "max_height": null,
       "max_width": null,
       "min_height": null,
       "min_width": null,
       "object_fit": null,
       "object_position": null,
       "order": null,
       "overflow": null,
       "overflow_x": null,
       "overflow_y": null,
       "padding": null,
       "right": null,
       "top": null,
       "visibility": null,
       "width": null
      }
     },
     "c4361da3919d4cfbb273bbc0f34bc803": {
      "model_module": "@jupyter-widgets/controls",
      "model_module_version": "1.5.0",
      "model_name": "HTMLModel",
      "state": {
       "_dom_classes": [],
       "_model_module": "@jupyter-widgets/controls",
       "_model_module_version": "1.5.0",
       "_model_name": "HTMLModel",
       "_view_count": null,
       "_view_module": "@jupyter-widgets/controls",
       "_view_module_version": "1.5.0",
       "_view_name": "HTMLView",
       "description": "",
       "description_tooltip": null,
       "layout": "IPY_MODEL_39e48db383a04199a0a4b5a604e3955a",
       "placeholder": "​",
       "style": "IPY_MODEL_14bed8c7ce174c78bcd6923f663683ab",
       "value": " 1048574/1048574 [02:48&lt;00:00, 6592.17it/s]"
      }
     },
     "c9344c1364824b238f7439260712a41c": {
      "model_module": "@jupyter-widgets/base",
      "model_module_version": "1.2.0",
      "model_name": "LayoutModel",
      "state": {
       "_model_module": "@jupyter-widgets/base",
       "_model_module_version": "1.2.0",
       "_model_name": "LayoutModel",
       "_view_count": null,
       "_view_module": "@jupyter-widgets/base",
       "_view_module_version": "1.2.0",
       "_view_name": "LayoutView",
       "align_content": null,
       "align_items": null,
       "align_self": null,
       "border": null,
       "bottom": null,
       "display": null,
       "flex": null,
       "flex_flow": null,
       "grid_area": null,
       "grid_auto_columns": null,
       "grid_auto_flow": null,
       "grid_auto_rows": null,
       "grid_column": null,
       "grid_gap": null,
       "grid_row": null,
       "grid_template_areas": null,
       "grid_template_columns": null,
       "grid_template_rows": null,
       "height": null,
       "justify_content": null,
       "justify_items": null,
       "left": null,
       "margin": null,
       "max_height": null,
       "max_width": null,
       "min_height": null,
       "min_width": null,
       "object_fit": null,
       "object_position": null,
       "order": null,
       "overflow": null,
       "overflow_x": null,
       "overflow_y": null,
       "padding": null,
       "right": null,
       "top": null,
       "visibility": null,
       "width": null
      }
     },
     "ca401fff3da24d608c0a5b9448687689": {
      "model_module": "@jupyter-widgets/controls",
      "model_module_version": "1.5.0",
      "model_name": "HTMLModel",
      "state": {
       "_dom_classes": [],
       "_model_module": "@jupyter-widgets/controls",
       "_model_module_version": "1.5.0",
       "_model_name": "HTMLModel",
       "_view_count": null,
       "_view_module": "@jupyter-widgets/controls",
       "_view_module_version": "1.5.0",
       "_view_name": "HTMLView",
       "description": "",
       "description_tooltip": null,
       "layout": "IPY_MODEL_b4a08f232dd94b0893d2715c5ba96b7b",
       "placeholder": "​",
       "style": "IPY_MODEL_6b79e28afb1c4128a63fd4c665366986",
       "value": " 943656/943656 [02:02&lt;00:00, 8559.25it/s]"
      }
     },
     "d67a26a63b43400c8146d6aa29dac145": {
      "model_module": "@jupyter-widgets/controls",
      "model_module_version": "1.5.0",
      "model_name": "HTMLModel",
      "state": {
       "_dom_classes": [],
       "_model_module": "@jupyter-widgets/controls",
       "_model_module_version": "1.5.0",
       "_model_name": "HTMLModel",
       "_view_count": null,
       "_view_module": "@jupyter-widgets/controls",
       "_view_module_version": "1.5.0",
       "_view_name": "HTMLView",
       "description": "",
       "description_tooltip": null,
       "layout": "IPY_MODEL_c9344c1364824b238f7439260712a41c",
       "placeholder": "​",
       "style": "IPY_MODEL_6f7c726cc76f46a3ab614c43e7b24fd7",
       "value": " 2/2 [00:00&lt;00:00, 60.21it/s]"
      }
     },
     "d7b6ca08aee34b4f8890cf2d4760b7db": {
      "model_module": "@jupyter-widgets/base",
      "model_module_version": "1.2.0",
      "model_name": "LayoutModel",
      "state": {
       "_model_module": "@jupyter-widgets/base",
       "_model_module_version": "1.2.0",
       "_model_name": "LayoutModel",
       "_view_count": null,
       "_view_module": "@jupyter-widgets/base",
       "_view_module_version": "1.2.0",
       "_view_name": "LayoutView",
       "align_content": null,
       "align_items": null,
       "align_self": null,
       "border": null,
       "bottom": null,
       "display": null,
       "flex": null,
       "flex_flow": null,
       "grid_area": null,
       "grid_auto_columns": null,
       "grid_auto_flow": null,
       "grid_auto_rows": null,
       "grid_column": null,
       "grid_gap": null,
       "grid_row": null,
       "grid_template_areas": null,
       "grid_template_columns": null,
       "grid_template_rows": null,
       "height": null,
       "justify_content": null,
       "justify_items": null,
       "left": null,
       "margin": null,
       "max_height": null,
       "max_width": null,
       "min_height": null,
       "min_width": null,
       "object_fit": null,
       "object_position": null,
       "order": null,
       "overflow": null,
       "overflow_x": null,
       "overflow_y": null,
       "padding": null,
       "right": null,
       "top": null,
       "visibility": null,
       "width": null
      }
     },
     "d7ca2267989d4e37858f1c857a286fab": {
      "model_module": "@jupyter-widgets/base",
      "model_module_version": "1.2.0",
      "model_name": "LayoutModel",
      "state": {
       "_model_module": "@jupyter-widgets/base",
       "_model_module_version": "1.2.0",
       "_model_name": "LayoutModel",
       "_view_count": null,
       "_view_module": "@jupyter-widgets/base",
       "_view_module_version": "1.2.0",
       "_view_name": "LayoutView",
       "align_content": null,
       "align_items": null,
       "align_self": null,
       "border": null,
       "bottom": null,
       "display": null,
       "flex": null,
       "flex_flow": null,
       "grid_area": null,
       "grid_auto_columns": null,
       "grid_auto_flow": null,
       "grid_auto_rows": null,
       "grid_column": null,
       "grid_gap": null,
       "grid_row": null,
       "grid_template_areas": null,
       "grid_template_columns": null,
       "grid_template_rows": null,
       "height": null,
       "justify_content": null,
       "justify_items": null,
       "left": null,
       "margin": null,
       "max_height": null,
       "max_width": null,
       "min_height": null,
       "min_width": null,
       "object_fit": null,
       "object_position": null,
       "order": null,
       "overflow": null,
       "overflow_x": null,
       "overflow_y": null,
       "padding": null,
       "right": null,
       "top": null,
       "visibility": null,
       "width": null
      }
     },
     "d7eb1bcef3ff4915819001634f685e33": {
      "model_module": "@jupyter-widgets/controls",
      "model_module_version": "1.5.0",
      "model_name": "DescriptionStyleModel",
      "state": {
       "_model_module": "@jupyter-widgets/controls",
       "_model_module_version": "1.5.0",
       "_model_name": "DescriptionStyleModel",
       "_view_count": null,
       "_view_module": "@jupyter-widgets/base",
       "_view_module_version": "1.2.0",
       "_view_name": "StyleView",
       "description_width": ""
      }
     },
     "ec889faa092149a0bd32aab659971f80": {
      "model_module": "@jupyter-widgets/controls",
      "model_module_version": "1.5.0",
      "model_name": "HTMLModel",
      "state": {
       "_dom_classes": [],
       "_model_module": "@jupyter-widgets/controls",
       "_model_module_version": "1.5.0",
       "_model_name": "HTMLModel",
       "_view_count": null,
       "_view_module": "@jupyter-widgets/controls",
       "_view_module_version": "1.5.0",
       "_view_name": "HTMLView",
       "description": "",
       "description_tooltip": null,
       "layout": "IPY_MODEL_49027715780645a8847b0bce9baafa4a",
       "placeholder": "​",
       "style": "IPY_MODEL_d7eb1bcef3ff4915819001634f685e33",
       "value": "100%"
      }
     },
     "f4b093e995214d3792bc19dbb05e0256": {
      "model_module": "@jupyter-widgets/base",
      "model_module_version": "1.2.0",
      "model_name": "LayoutModel",
      "state": {
       "_model_module": "@jupyter-widgets/base",
       "_model_module_version": "1.2.0",
       "_model_name": "LayoutModel",
       "_view_count": null,
       "_view_module": "@jupyter-widgets/base",
       "_view_module_version": "1.2.0",
       "_view_name": "LayoutView",
       "align_content": null,
       "align_items": null,
       "align_self": null,
       "border": null,
       "bottom": null,
       "display": null,
       "flex": null,
       "flex_flow": null,
       "grid_area": null,
       "grid_auto_columns": null,
       "grid_auto_flow": null,
       "grid_auto_rows": null,
       "grid_column": null,
       "grid_gap": null,
       "grid_row": null,
       "grid_template_areas": null,
       "grid_template_columns": null,
       "grid_template_rows": null,
       "height": null,
       "justify_content": null,
       "justify_items": null,
       "left": null,
       "margin": null,
       "max_height": null,
       "max_width": null,
       "min_height": null,
       "min_width": null,
       "object_fit": null,
       "object_position": null,
       "order": null,
       "overflow": null,
       "overflow_x": null,
       "overflow_y": null,
       "padding": null,
       "right": null,
       "top": null,
       "visibility": null,
       "width": null
      }
     },
     "fb351fc1911c441a86c92c0c9e6a9a2b": {
      "model_module": "@jupyter-widgets/controls",
      "model_module_version": "1.5.0",
      "model_name": "FloatProgressModel",
      "state": {
       "_dom_classes": [],
       "_model_module": "@jupyter-widgets/controls",
       "_model_module_version": "1.5.0",
       "_model_name": "FloatProgressModel",
       "_view_count": null,
       "_view_module": "@jupyter-widgets/controls",
       "_view_module_version": "1.5.0",
       "_view_name": "ProgressView",
       "bar_style": "success",
       "description": "",
       "description_tooltip": null,
       "layout": "IPY_MODEL_bdfd75d7bcd74a689ffb0f76b3ec7690",
       "max": 2.0,
       "min": 0.0,
       "orientation": "horizontal",
       "style": "IPY_MODEL_b23111d578e34430abd80a6a152d46cd",
       "value": 2.0
      }
     }
    },
    "version_major": 2,
    "version_minor": 0
   }
  }
 },
 "nbformat": 4,
 "nbformat_minor": 5
}
